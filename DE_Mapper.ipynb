{
 "cells": [
  {
   "cell_type": "code",
   "execution_count": 1,
   "id": "844bb067-4882-4ba0-bc49-11d56fe5bc58",
   "metadata": {},
   "outputs": [],
   "source": [
    "import anndata as ad\n",
    "import pandas as pd\n",
    "import numpy as np"
   ]
  },
  {
   "cell_type": "code",
   "execution_count": 2,
   "id": "f0b1ef06-b1d9-49b2-b137-82188658428b",
   "metadata": {},
   "outputs": [],
   "source": [
    "# DE labels\n",
    "kaggle_train_de_df = pd.read_parquet('data/de_train.parquet')"
   ]
  },
  {
   "cell_type": "code",
   "execution_count": 3,
   "id": "8eb10b3f-fe4e-4637-9d19-5e577d4ce4ba",
   "metadata": {},
   "outputs": [],
   "source": [
    "genes = list(set(kaggle_train_de_df.columns.tolist()) - set([\"cell_type\", \"sm_name\", \"sm_lincs_id\", \"SMILES\", \"control\"]))"
   ]
  },
  {
   "cell_type": "code",
   "execution_count": 4,
   "id": "96e9238c-e680-46d0-9957-ecb30beae490",
   "metadata": {},
   "outputs": [
    {
     "data": {
      "text/plain": [
       "18211"
      ]
     },
     "execution_count": 4,
     "metadata": {},
     "output_type": "execute_result"
    }
   ],
   "source": [
    "len(genes)"
   ]
  },
  {
   "cell_type": "code",
   "execution_count": 5,
   "id": "79fb75bf-2dfe-4056-bdb8-6d3b9b66e8a0",
   "metadata": {},
   "outputs": [],
   "source": [
    "# adata_test_df = pd.read_parquet('data/df_expr_predict.all_donors.parquet')\n",
    "# genes = list(set(adata_test_df.columns.tolist()) - set(['donor_id','sm_name', 'cell_type']))"
   ]
  },
  {
   "cell_type": "code",
   "execution_count": 6,
   "id": "920bba7b-cc8a-4052-b976-5ccff52d1d89",
   "metadata": {},
   "outputs": [],
   "source": [
    "adata_train_df = pd.read_parquet('data/adata_train.parquet')"
   ]
  },
  {
   "cell_type": "code",
   "execution_count": 7,
   "id": "ef4f1b9f-283f-4266-822c-9232847aa57e",
   "metadata": {},
   "outputs": [],
   "source": [
    "adata_train_df = adata_train_df.drop(\"normalized_count\", axis=1)"
   ]
  },
  {
   "cell_type": "code",
   "execution_count": 8,
   "id": "7f467417-c8b1-40a6-afa6-47b0e31328c1",
   "metadata": {},
   "outputs": [],
   "source": [
    "meta_data_columns = ['obs_id', 'donor_id', 'cell_type', 'sm_name']\n",
    "adata_obs_meta_df = pd.read_csv('data/adata_obs_meta.csv')[meta_data_columns]"
   ]
  },
  {
   "cell_type": "code",
   "execution_count": 9,
   "id": "d1ac1a2d-03da-47bb-a1fc-16038e7fe57e",
   "metadata": {},
   "outputs": [],
   "source": [
    "adata_train_df = pd.merge(adata_train_df, adata_obs_meta_df, on=\"obs_id\")"
   ]
  },
  {
   "cell_type": "code",
   "execution_count": null,
   "id": "07e59be3-7276-4bb1-b00b-a520444fc0f6",
   "metadata": {},
   "outputs": [],
   "source": [
    "# sorted(adata_train_df.sm_name.unique())"
   ]
  },
  {
   "cell_type": "code",
   "execution_count": null,
   "id": "b0d1a2b5-dd3e-46b0-9955-5f6bb2168c7c",
   "metadata": {},
   "outputs": [],
   "source": [
    "# adata_train_df.to_parquet(\"data/adata_merged.parquet\")"
   ]
  },
  {
   "cell_type": "code",
   "execution_count": 10,
   "id": "f335cf64-a862-48af-bd9b-7ff9e46f1f64",
   "metadata": {},
   "outputs": [],
   "source": [
    "import pyarrow.parquet as pq\n",
    "\n",
    "parquet_file = pq.ParquetFile(\"data/adata_merged.parquet\")\n",
    "result_chunks = []\n",
    "for i in range(parquet_file.num_row_groups):\n",
    "    chunk = parquet_file.read_row_group(i).to_pandas()\n",
    "    result_chunk = chunk.groupby([\"donor_id\", \"cell_type\", \"sm_name\", \"gene\"]).sum()\n",
    "    result_chunks.append(result_chunk)"
   ]
  },
  {
   "cell_type": "code",
   "execution_count": 11,
   "id": "40f4d9f0-9cde-49ef-b06e-79bf84bef987",
   "metadata": {},
   "outputs": [],
   "source": [
    "adata_train_df = pd.concat(result_chunks)"
   ]
  },
  {
   "cell_type": "code",
   "execution_count": 12,
   "id": "834cbe3c-331d-4d1a-9c40-2e827fc0bf95",
   "metadata": {},
   "outputs": [],
   "source": [
    "# adata_train_df.to_parquet('data/filtered_adata_train.parquet', engine='pyarrow')"
   ]
  },
  {
   "cell_type": "code",
   "execution_count": 13,
   "id": "13329dfb-388a-49f9-a7ee-aa559a54b3ad",
   "metadata": {},
   "outputs": [],
   "source": [
    "adata_train_df = adata_train_df.groupby([\"donor_id\", \"cell_type\", \"sm_name\", \"gene\"]).sum()"
   ]
  },
  {
   "cell_type": "code",
   "execution_count": 14,
   "id": "f0d01d48-eb2c-49a1-b282-1ab6b2f511d9",
   "metadata": {},
   "outputs": [],
   "source": [
    "adata_train_df.drop(\"obs_id\", axis=1, inplace=True)"
   ]
  },
  {
   "cell_type": "code",
   "execution_count": 15,
   "id": "88d17738-7206-4b5b-85c8-531dc6066018",
   "metadata": {},
   "outputs": [],
   "source": [
    "adata_train_df.reset_index(inplace=True)"
   ]
  },
  {
   "cell_type": "code",
   "execution_count": 16,
   "id": "fa006831-3dfd-41a6-80d0-1bb8894eeffe",
   "metadata": {},
   "outputs": [],
   "source": [
    "adata_train_df.to_parquet('data/filtered_adata_train.parquet', engine='pyarrow')"
   ]
  },
  {
   "cell_type": "code",
   "execution_count": 17,
   "id": "0bf75eff-4b05-4470-9f10-9e7797814f5e",
   "metadata": {},
   "outputs": [],
   "source": [
    "# Pivot the DataFrame\n",
    "pivot_df = adata_train_df.pivot(index=[\"donor_id\", \"cell_type\", \"sm_name\"], columns='gene', values='count')\n"
   ]
  },
  {
   "cell_type": "code",
   "execution_count": 18,
   "id": "57d3d532-7332-4e96-92ab-6624e1853576",
   "metadata": {},
   "outputs": [],
   "source": [
    "extra_genes = list(set(pivot_df.columns.tolist()) - set(genes))"
   ]
  },
  {
   "cell_type": "code",
   "execution_count": 19,
   "id": "a5929732-e110-455b-9e46-0bf4aaa2979a",
   "metadata": {},
   "outputs": [],
   "source": [
    "pivot_df.drop(extra_genes, axis=1, inplace=True)"
   ]
  },
  {
   "cell_type": "code",
   "execution_count": 21,
   "id": "fd24fa3a-79b1-4521-ac6a-dca3e8d0c745",
   "metadata": {},
   "outputs": [],
   "source": [
    "pivot_df = pivot_df.fillna(0)"
   ]
  },
  {
   "cell_type": "code",
   "execution_count": 22,
   "id": "6b6558eb-0b25-4539-89c6-69a27f115432",
   "metadata": {},
   "outputs": [],
   "source": [
    "pivot_df.reset_index(inplace=True)"
   ]
  },
  {
   "cell_type": "code",
   "execution_count": 23,
   "id": "cd07afd2-30e3-4608-b1a7-54351b97aec4",
   "metadata": {},
   "outputs": [],
   "source": [
    "pivot_df.to_parquet('data/bulk_adata_train.parquet', engine='pyarrow')"
   ]
  },
  {
   "cell_type": "code",
   "execution_count": 79,
   "id": "048eeeb7-eb52-46bc-9566-836a1fe04081",
   "metadata": {},
   "outputs": [],
   "source": [
    "pivot_df = pd.read_parquet('data/bulk_adata_train.parquet')"
   ]
  },
  {
   "cell_type": "code",
   "execution_count": 80,
   "id": "f61dd4c0-72e3-429c-9c74-8b721817ae1b",
   "metadata": {},
   "outputs": [],
   "source": [
    "# 1. log normalization\n",
    "pivot_df[genes] = pivot_df[genes].apply(lambda x: np.log(x / x.sum() + 1), axis=1)"
   ]
  },
  {
   "cell_type": "code",
   "execution_count": 81,
   "id": "dcf8d7dd-1b23-4c75-9458-910a0742fcb5",
   "metadata": {},
   "outputs": [],
   "source": [
    "# 2. neg control subtraction\n",
    "neg_ctr = \"Dimethyl Sulfoxide\"\n",
    "neg_df = pivot_df[pivot_df['sm_name'] == neg_ctr]\n",
    "\n",
    "new_gene_names = [g + \"_neg\" for g in genes]\n",
    "\n",
    "merged_df = pivot_df.merge(neg_df, on=[\"donor_id\", \"cell_type\"], suffixes=('', '_neg'))"
   ]
  },
  {
   "cell_type": "code",
   "execution_count": 82,
   "id": "a1b522f6-6094-410f-9344-1547b2708e5d",
   "metadata": {},
   "outputs": [],
   "source": [
    "pivot_df[genes] = pd.DataFrame(pivot_df[genes].to_numpy() - merged_df[new_gene_names].to_numpy())"
   ]
  },
  {
   "cell_type": "code",
   "execution_count": 84,
   "id": "aeb045e5-dbe0-4b12-834e-84715139ca39",
   "metadata": {},
   "outputs": [],
   "source": [
    "neg_df.to_parquet('data/neg.parquet', engine='pyarrow')\n",
    "pivot_df = pivot_df[pivot_df.sm_name != neg_ctr]\n",
    "del merged_df"
   ]
  },
  {
   "cell_type": "code",
   "execution_count": 85,
   "id": "f58e0947-c16c-4fe6-aded-868eafecb310",
   "metadata": {},
   "outputs": [],
   "source": [
    "pivot_df = pivot_df.groupby([\"cell_type\", \"sm_name\"])[genes].mean().reset_index()"
   ]
  },
  {
   "cell_type": "code",
   "execution_count": 86,
   "id": "3d98322b-5f5f-4b10-8c3c-4dcbbba8654b",
   "metadata": {},
   "outputs": [],
   "source": [
    "pivot_df.to_parquet('data/ddd.parquet', engine='pyarrow')"
   ]
  },
  {
   "cell_type": "code",
   "execution_count": 87,
   "id": "95aeb6b2-82d4-484e-a1d7-6e9340653b11",
   "metadata": {},
   "outputs": [
    {
     "data": {
      "text/plain": [
       "(614, 18213)"
      ]
     },
     "execution_count": 87,
     "metadata": {},
     "output_type": "execute_result"
    }
   ],
   "source": [
    "pivot_df.shape #(255, 54638)"
   ]
  },
  {
   "cell_type": "code",
   "execution_count": 88,
   "id": "49581452-dac2-4d23-9228-b7fbf852177f",
   "metadata": {},
   "outputs": [],
   "source": [
    "ddde = pd.merge(pivot_df, kaggle_train_de_df[genes + [\"cell_type\", \"sm_name\"]], on=[\"cell_type\", \"sm_name\"], how=\"inner\", suffixes = ('_d2','_de'))"
   ]
  },
  {
   "cell_type": "code",
   "execution_count": 89,
   "id": "f5b78f9d-fb4a-428e-a92d-ccd8131e8cbc",
   "metadata": {},
   "outputs": [],
   "source": [
    "ddde.to_parquet('data/ddde.parquet', engine='pyarrow')"
   ]
  },
  {
   "cell_type": "code",
   "execution_count": 90,
   "id": "be293838-c1df-42c7-8936-1e442ca04fc9",
   "metadata": {},
   "outputs": [
    {
     "data": {
      "text/plain": [
       "(614, 36424)"
      ]
     },
     "execution_count": 90,
     "metadata": {},
     "output_type": "execute_result"
    }
   ],
   "source": [
    "ddde.shape"
   ]
  }
 ],
 "metadata": {
  "kernelspec": {
   "display_name": "Python 3 (ipykernel)",
   "language": "python",
   "name": "python3"
  },
  "language_info": {
   "codemirror_mode": {
    "name": "ipython",
    "version": 3
   },
   "file_extension": ".py",
   "mimetype": "text/x-python",
   "name": "python",
   "nbconvert_exporter": "python",
   "pygments_lexer": "ipython3",
   "version": "3.8.17"
  }
 },
 "nbformat": 4,
 "nbformat_minor": 5
}
