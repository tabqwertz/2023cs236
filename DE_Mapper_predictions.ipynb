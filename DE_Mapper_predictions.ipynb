{
 "cells": [
  {
   "cell_type": "code",
   "execution_count": 1,
   "id": "844bb067-4882-4ba0-bc49-11d56fe5bc58",
   "metadata": {
    "executionInfo": {
     "elapsed": 1983,
     "status": "ok",
     "timestamp": 1701302486666,
     "user": {
      "displayName": "Billur Engin Aras",
      "userId": "09193794684504025859"
     },
     "user_tz": 0
    },
    "id": "844bb067-4882-4ba0-bc49-11d56fe5bc58"
   },
   "outputs": [],
   "source": [
    "import pandas as pd\n",
    "import numpy as np\n",
    "import os"
   ]
  },
  {
   "cell_type": "code",
   "execution_count": 2,
   "id": "18231c7c-c5a3-4c3f-bb89-f1f24d837463",
   "metadata": {},
   "outputs": [],
   "source": [
    "# DE labels\n",
    "kaggle_train_de_df = pd.read_parquet('data/de_train.parquet')"
   ]
  },
  {
   "cell_type": "code",
   "execution_count": 3,
   "id": "b99c8c93-a542-4f27-b8b0-8d9687503cab",
   "metadata": {},
   "outputs": [],
   "source": [
    "genes = list(set(kaggle_train_de_df.columns.tolist()) - set([\"cell_type\", \"sm_name\", \"sm_lincs_id\", \"SMILES\", \"control\"]))"
   ]
  },
  {
   "cell_type": "code",
   "execution_count": 4,
   "id": "920bba7b-cc8a-4052-b976-5ccff52d1d89",
   "metadata": {
    "executionInfo": {
     "elapsed": 17160,
     "status": "ok",
     "timestamp": 1701302281463,
     "user": {
      "displayName": "Billur Engin Aras",
      "userId": "09193794684504025859"
     },
     "user_tz": 0
    },
    "id": "920bba7b-cc8a-4052-b976-5ccff52d1d89"
   },
   "outputs": [],
   "source": [
    "adata_test_df = pd.read_parquet('data/df_expr_predict.all_donors.parquet')"
   ]
  },
  {
   "cell_type": "code",
   "execution_count": 5,
   "id": "7f467417-c8b1-40a6-afa6-47b0e31328c1",
   "metadata": {
    "executionInfo": {
     "elapsed": 600,
     "status": "ok",
     "timestamp": 1701302282062,
     "user": {
      "displayName": "Billur Engin Aras",
      "userId": "09193794684504025859"
     },
     "user_tz": 0
    },
    "id": "7f467417-c8b1-40a6-afa6-47b0e31328c1"
   },
   "outputs": [],
   "source": [
    "meta_data_columns = ['donor_id', 'cell_type', 'sm_name']\n",
    "adata_obs_meta_df = pd.read_csv('data/df_meta_predict.all_donors.tsv', delimiter='\\t')[meta_data_columns]"
   ]
  },
  {
   "cell_type": "code",
   "execution_count": 6,
   "id": "SDi2u6rUgUAy",
   "metadata": {
    "executionInfo": {
     "elapsed": 301,
     "status": "ok",
     "timestamp": 1701302282362,
     "user": {
      "displayName": "Billur Engin Aras",
      "userId": "09193794684504025859"
     },
     "user_tz": 0
    },
    "id": "SDi2u6rUgUAy"
   },
   "outputs": [],
   "source": [
    "adata_test_df['donor_id'] = adata_obs_meta_df['donor_id'].tolist()\n",
    "adata_test_df['cell_type'] = adata_obs_meta_df['cell_type'].tolist()\n",
    "adata_test_df['sm_name'] = adata_obs_meta_df['sm_name'].tolist()"
   ]
  },
  {
   "cell_type": "code",
   "execution_count": 7,
   "id": "13329dfb-388a-49f9-a7ee-aa559a54b3ad",
   "metadata": {
    "id": "13329dfb-388a-49f9-a7ee-aa559a54b3ad"
   },
   "outputs": [],
   "source": [
    "adata_test_df = adata_test_df.groupby([\"donor_id\", \"cell_type\", \"sm_name\"])[genes].sum().reset_index()"
   ]
  },
  {
   "cell_type": "code",
   "execution_count": 9,
   "id": "88d17738-7206-4b5b-85c8-531dc6066018",
   "metadata": {
    "id": "88d17738-7206-4b5b-85c8-531dc6066018"
   },
   "outputs": [],
   "source": [
    "adata_test_df.reset_index(inplace=True)"
   ]
  },
  {
   "cell_type": "code",
   "execution_count": 10,
   "id": "f61dd4c0-72e3-429c-9c74-8b721817ae1b",
   "metadata": {
    "id": "f61dd4c0-72e3-429c-9c74-8b721817ae1b",
    "outputId": "6c7a6450-0978-4815-d2b9-df9f70f9513a"
   },
   "outputs": [],
   "source": [
    "adata_test_df[genes] = adata_test_df[genes].apply(lambda x: np.log(x / x.sum() + 1), axis=1)"
   ]
  },
  {
   "cell_type": "code",
   "execution_count": 11,
   "id": "96830a3a-1add-4753-81f4-e5cb2964c0ac",
   "metadata": {},
   "outputs": [],
   "source": [
    "# adata_test_df.to_parquet('data/adata_test_df_301123.parquet', engine='pyarrow')"
   ]
  },
  {
   "cell_type": "code",
   "execution_count": 23,
   "id": "734e18f3-d3df-4f5d-bf0b-76f77058bf42",
   "metadata": {},
   "outputs": [],
   "source": [
    "adata_test_df = pd.read_parquet('data/adata_test_df_301123.parquet', engine='pyarrow')"
   ]
  },
  {
   "cell_type": "code",
   "execution_count": 24,
   "id": "27b79590-65e3-4d89-b059-26712650e9ae",
   "metadata": {},
   "outputs": [],
   "source": [
    "neg_df = pd.read_parquet('data/neg.parquet', engine='pyarrow')"
   ]
  },
  {
   "cell_type": "code",
   "execution_count": 25,
   "id": "59b73d95-1214-4960-8c7c-208ec9ba6a00",
   "metadata": {},
   "outputs": [],
   "source": [
    "new_gene_names = [g + \"_neg\" for g in genes]\n",
    "merged_df = adata_test_df.merge(neg_df, on=[\"donor_id\", \"cell_type\"], suffixes=('', '_neg'))"
   ]
  },
  {
   "cell_type": "code",
   "execution_count": 26,
   "id": "e24140ae-7573-4d32-8973-1e8fdfb52667",
   "metadata": {},
   "outputs": [],
   "source": [
    "adata_test_df[genes] = pd.DataFrame(adata_test_df[genes].to_numpy() - merged_df[new_gene_names].to_numpy())"
   ]
  },
  {
   "cell_type": "code",
   "execution_count": 27,
   "id": "8fd85910-2a0d-4ee0-a2e3-41d8c69eb88a",
   "metadata": {},
   "outputs": [],
   "source": [
    "ddd = adata_test_df.groupby([\"cell_type\", \"sm_name\"])[genes].mean().reset_index()"
   ]
  },
  {
   "cell_type": "code",
   "execution_count": 30,
   "id": "3d98322b-5f5f-4b10-8c3c-4dcbbba8654b",
   "metadata": {
    "id": "3d98322b-5f5f-4b10-8c3c-4dcbbba8654b"
   },
   "outputs": [],
   "source": [
    "ddd.to_parquet('data/ddd_test.parquet', engine='pyarrow')"
   ]
  },
  {
   "cell_type": "code",
   "execution_count": 31,
   "id": "441c863e-e014-4692-ba55-32f22f342ae0",
   "metadata": {},
   "outputs": [
    {
     "data": {
      "text/plain": [
       "(255, 18213)"
      ]
     },
     "execution_count": 31,
     "metadata": {},
     "output_type": "execute_result"
    }
   ],
   "source": [
    "ddd.shape"
   ]
  },
  {
   "cell_type": "code",
   "execution_count": 32,
   "id": "e2ea334b-630d-4646-a680-9c6681e04f4c",
   "metadata": {},
   "outputs": [
    {
     "data": {
      "text/plain": [
       "18211"
      ]
     },
     "execution_count": 32,
     "metadata": {},
     "output_type": "execute_result"
    }
   ],
   "source": [
    "len(genes)"
   ]
  },
  {
   "cell_type": "code",
   "execution_count": null,
   "id": "b7305a6b-63ba-4083-9489-c6a4d8095701",
   "metadata": {},
   "outputs": [],
   "source": []
  }
 ],
 "metadata": {
  "colab": {
   "provenance": []
  },
  "kernelspec": {
   "display_name": "Python 3 (ipykernel)",
   "language": "python",
   "name": "python3"
  },
  "language_info": {
   "codemirror_mode": {
    "name": "ipython",
    "version": 3
   },
   "file_extension": ".py",
   "mimetype": "text/x-python",
   "name": "python",
   "nbconvert_exporter": "python",
   "pygments_lexer": "ipython3",
   "version": "3.8.17"
  }
 },
 "nbformat": 4,
 "nbformat_minor": 5
}
