{
 "cells": [
  {
   "cell_type": "code",
   "execution_count": 5,
   "metadata": {
    "colab": {
     "base_uri": "https://localhost:8080/"
    },
    "executionInfo": {
     "elapsed": 8557,
     "status": "ok",
     "timestamp": 1700450173482,
     "user": {
      "displayName": "Moi Knigi",
      "userId": "01206410294984552369"
     },
     "user_tz": 480
    },
    "id": "zjYf1ksSyiGK",
    "outputId": "ce73995d-28ac-4e76-fb92-3dc2853c848a"
   },
   "outputs": [],
   "source": [
    "# %pip install anndata"
   ]
  },
  {
   "cell_type": "code",
   "execution_count": 6,
   "metadata": {},
   "outputs": [],
   "source": [
    "# %pip install matplotlib"
   ]
  },
  {
   "cell_type": "code",
   "execution_count": 12,
   "metadata": {},
   "outputs": [],
   "source": [
    "# %pip install pyarrow"
   ]
  },
  {
   "cell_type": "code",
   "execution_count": 7,
   "metadata": {
    "id": "Aj23lzOljINA"
   },
   "outputs": [],
   "source": [
    "import numpy as np\n",
    "import pandas as pd\n",
    "import tqdm as tq\n",
    "import anndata as ad\n",
    "from scipy.sparse import csr_matrix\n",
    "from scipy.sparse import coo_matrix"
   ]
  },
  {
   "cell_type": "code",
   "execution_count": 8,
   "metadata": {
    "id": "qh9bpZnzjOFe"
   },
   "outputs": [],
   "source": [
    "import matplotlib.pyplot as plt"
   ]
  },
  {
   "cell_type": "markdown",
   "metadata": {
    "id": "56b2cMO_rN-c"
   },
   "source": [
    "# Preprocess data"
   ]
  },
  {
   "cell_type": "code",
   "execution_count": 13,
   "metadata": {
    "id": "4nT-UA0CtPP-"
   },
   "outputs": [],
   "source": [
    "DATA = \"data\""
   ]
  },
  {
   "cell_type": "code",
   "execution_count": 14,
   "metadata": {
    "id": "fhwC8TN4tPOC"
   },
   "outputs": [],
   "source": [
    "df_train = pd.read_parquet(f\"{DATA}/adata_train.parquet\", engine=\"pyarrow\")"
   ]
  },
  {
   "cell_type": "code",
   "execution_count": 15,
   "metadata": {
    "id": "P1sKS3oA_KTx"
   },
   "outputs": [],
   "source": [
    "# df_train[\"count\"] = df_train[[\"count\"]].astype(float)"
   ]
  },
  {
   "cell_type": "code",
   "execution_count": 16,
   "metadata": {
    "colab": {
     "base_uri": "https://localhost:8080/",
     "height": 206
    },
    "executionInfo": {
     "elapsed": 9,
     "status": "ok",
     "timestamp": 1700450264703,
     "user": {
      "displayName": "Moi Knigi",
      "userId": "01206410294984552369"
     },
     "user_tz": 480
    },
    "id": "RiA6EwLRtPLx",
    "outputId": "5737d3ac-c8cc-4e04-f05f-7e1f7b8ee412"
   },
   "outputs": [
    {
     "data": {
      "text/html": [
       "<div>\n",
       "<style scoped>\n",
       "    .dataframe tbody tr th:only-of-type {\n",
       "        vertical-align: middle;\n",
       "    }\n",
       "\n",
       "    .dataframe tbody tr th {\n",
       "        vertical-align: top;\n",
       "    }\n",
       "\n",
       "    .dataframe thead th {\n",
       "        text-align: right;\n",
       "    }\n",
       "</style>\n",
       "<table border=\"1\" class=\"dataframe\">\n",
       "  <thead>\n",
       "    <tr style=\"text-align: right;\">\n",
       "      <th></th>\n",
       "      <th>obs_id</th>\n",
       "      <th>gene</th>\n",
       "      <th>count</th>\n",
       "      <th>normalized_count</th>\n",
       "    </tr>\n",
       "  </thead>\n",
       "  <tbody>\n",
       "    <tr>\n",
       "      <th>0</th>\n",
       "      <td>000006a87ba75b72</td>\n",
       "      <td>AATF</td>\n",
       "      <td>1</td>\n",
       "      <td>5.567933</td>\n",
       "    </tr>\n",
       "    <tr>\n",
       "      <th>1</th>\n",
       "      <td>000006a87ba75b72</td>\n",
       "      <td>ABHD12</td>\n",
       "      <td>1</td>\n",
       "      <td>5.567933</td>\n",
       "    </tr>\n",
       "    <tr>\n",
       "      <th>2</th>\n",
       "      <td>000006a87ba75b72</td>\n",
       "      <td>ABHD3</td>\n",
       "      <td>1</td>\n",
       "      <td>5.567933</td>\n",
       "    </tr>\n",
       "    <tr>\n",
       "      <th>3</th>\n",
       "      <td>000006a87ba75b72</td>\n",
       "      <td>AC004687.1</td>\n",
       "      <td>1</td>\n",
       "      <td>5.567933</td>\n",
       "    </tr>\n",
       "    <tr>\n",
       "      <th>4</th>\n",
       "      <td>000006a87ba75b72</td>\n",
       "      <td>AC009779.2</td>\n",
       "      <td>1</td>\n",
       "      <td>5.567933</td>\n",
       "    </tr>\n",
       "  </tbody>\n",
       "</table>\n",
       "</div>"
      ],
      "text/plain": [
       "             obs_id        gene  count  normalized_count\n",
       "0  000006a87ba75b72        AATF      1          5.567933\n",
       "1  000006a87ba75b72      ABHD12      1          5.567933\n",
       "2  000006a87ba75b72       ABHD3      1          5.567933\n",
       "3  000006a87ba75b72  AC004687.1      1          5.567933\n",
       "4  000006a87ba75b72  AC009779.2      1          5.567933"
      ]
     },
     "execution_count": 16,
     "metadata": {},
     "output_type": "execute_result"
    }
   ],
   "source": [
    "df_train.head()"
   ]
  },
  {
   "cell_type": "code",
   "execution_count": null,
   "metadata": {
    "id": "7dHeudBbWy7R"
   },
   "outputs": [],
   "source": []
  },
  {
   "cell_type": "code",
   "execution_count": 17,
   "metadata": {
    "id": "WX6QLCF0tPJl"
   },
   "outputs": [],
   "source": [
    "# df_train = df_train.head(1000000)\n",
    "# df_train_h = df_train"
   ]
  },
  {
   "cell_type": "code",
   "execution_count": 22,
   "metadata": {
    "id": "1N89oupPtPHT"
   },
   "outputs": [],
   "source": [
    "df_train['obs_id'] = df_train['obs_id'].astype('category')\n",
    "X_train = csr_matrix((df_train[\"count\"].astype(np.float16), (df_train[\"obs_id\"].cat.codes, pd.Categorical(df_train[\"gene\"]).codes)))\n",
    "# X_train = csr_matrix((df_train[\"normalized_count\"], (df_train[\"obs_id\"].cat.codes, pd.Categorical(df_train[\"gene\"]).codes)))"
   ]
  },
  {
   "cell_type": "code",
   "execution_count": 23,
   "metadata": {
    "colab": {
     "base_uri": "https://localhost:8080/"
    },
    "executionInfo": {
     "elapsed": 10,
     "status": "ok",
     "timestamp": 1700450363285,
     "user": {
      "displayName": "Moi Knigi",
      "userId": "01206410294984552369"
     },
     "user_tz": 480
    },
    "id": "hOTII_Lky0lW",
    "outputId": "5c8baa5e-024e-4af8-fd97-c9e5921737bb"
   },
   "outputs": [
    {
     "data": {
      "text/plain": [
       "(240090, 21255)"
      ]
     },
     "execution_count": 23,
     "metadata": {},
     "output_type": "execute_result"
    }
   ],
   "source": [
    "X_train.shape"
   ]
  },
  {
   "cell_type": "code",
   "execution_count": null,
   "metadata": {
    "id": "7KjB94Dpy8ug"
   },
   "outputs": [],
   "source": []
  },
  {
   "cell_type": "code",
   "execution_count": 25,
   "metadata": {
    "id": "ocGKsFsFuGVX"
   },
   "outputs": [],
   "source": [
    "ad_train = ad.AnnData(X_train)"
   ]
  },
  {
   "cell_type": "code",
   "execution_count": 26,
   "metadata": {
    "id": "U0Q40QfjuGTc"
   },
   "outputs": [],
   "source": [
    "ad_train.obs_names = df_train[\"obs_id\"].cat.categories\n",
    "ad_train.var_names = pd.Categorical(df_train[\"gene\"]).categories"
   ]
  },
  {
   "cell_type": "code",
   "execution_count": 27,
   "metadata": {
    "id": "EChUS77QuGRM"
   },
   "outputs": [],
   "source": [
    "df_train_meta = pd.read_csv(f\"{DATA}/adata_obs_meta.csv\")"
   ]
  },
  {
   "cell_type": "code",
   "execution_count": 28,
   "metadata": {
    "colab": {
     "base_uri": "https://localhost:8080/",
     "height": 206
    },
    "executionInfo": {
     "elapsed": 6,
     "status": "ok",
     "timestamp": 1700450438305,
     "user": {
      "displayName": "Moi Knigi",
      "userId": "01206410294984552369"
     },
     "user_tz": 480
    },
    "id": "2KKVranduGOl",
    "outputId": "dea01463-20e3-4811-b4c5-e4c2453e1cec"
   },
   "outputs": [
    {
     "data": {
      "text/html": [
       "<div>\n",
       "<style scoped>\n",
       "    .dataframe tbody tr th:only-of-type {\n",
       "        vertical-align: middle;\n",
       "    }\n",
       "\n",
       "    .dataframe tbody tr th {\n",
       "        vertical-align: top;\n",
       "    }\n",
       "\n",
       "    .dataframe thead th {\n",
       "        text-align: right;\n",
       "    }\n",
       "</style>\n",
       "<table border=\"1\" class=\"dataframe\">\n",
       "  <thead>\n",
       "    <tr style=\"text-align: right;\">\n",
       "      <th></th>\n",
       "      <th>obs_id</th>\n",
       "      <th>library_id</th>\n",
       "      <th>plate_name</th>\n",
       "      <th>well</th>\n",
       "      <th>row</th>\n",
       "      <th>col</th>\n",
       "      <th>cell_id</th>\n",
       "      <th>donor_id</th>\n",
       "      <th>cell_type</th>\n",
       "      <th>sm_lincs_id</th>\n",
       "      <th>sm_name</th>\n",
       "      <th>SMILES</th>\n",
       "      <th>dose_uM</th>\n",
       "      <th>timepoint_hr</th>\n",
       "      <th>control</th>\n",
       "    </tr>\n",
       "  </thead>\n",
       "  <tbody>\n",
       "    <tr>\n",
       "      <th>0</th>\n",
       "      <td>000006a87ba75b72</td>\n",
       "      <td>library_4</td>\n",
       "      <td>plate_4</td>\n",
       "      <td>F7</td>\n",
       "      <td>F</td>\n",
       "      <td>7</td>\n",
       "      <td>PBMC</td>\n",
       "      <td>donor_2</td>\n",
       "      <td>T cells CD4+</td>\n",
       "      <td>LSM-4944</td>\n",
       "      <td>MLN 2238</td>\n",
       "      <td>CC(C)C[C@H](NC(=O)CNC(=O)c1cc(Cl)ccc1Cl)B(O)O</td>\n",
       "      <td>1.0</td>\n",
       "      <td>24</td>\n",
       "      <td>False</td>\n",
       "    </tr>\n",
       "    <tr>\n",
       "      <th>1</th>\n",
       "      <td>0000233976e3cd37</td>\n",
       "      <td>library_0</td>\n",
       "      <td>plate_3</td>\n",
       "      <td>D4</td>\n",
       "      <td>D</td>\n",
       "      <td>4</td>\n",
       "      <td>PBMC</td>\n",
       "      <td>donor_1</td>\n",
       "      <td>T cells CD4+</td>\n",
       "      <td>LSM-46203</td>\n",
       "      <td>BMS-265246</td>\n",
       "      <td>CCCCOc1c(C(=O)c2c(F)cc(C)cc2F)cnc2[nH]ncc12</td>\n",
       "      <td>1.0</td>\n",
       "      <td>24</td>\n",
       "      <td>False</td>\n",
       "    </tr>\n",
       "    <tr>\n",
       "      <th>2</th>\n",
       "      <td>0001533c5e876362</td>\n",
       "      <td>library_2</td>\n",
       "      <td>plate_0</td>\n",
       "      <td>B11</td>\n",
       "      <td>B</td>\n",
       "      <td>11</td>\n",
       "      <td>PBMC</td>\n",
       "      <td>donor_0</td>\n",
       "      <td>T regulatory cells</td>\n",
       "      <td>LSM-45663</td>\n",
       "      <td>Resminostat</td>\n",
       "      <td>CN(C)Cc1ccc(S(=O)(=O)n2ccc(/C=C/C(=O)NO)c2)cc1</td>\n",
       "      <td>1.0</td>\n",
       "      <td>24</td>\n",
       "      <td>False</td>\n",
       "    </tr>\n",
       "    <tr>\n",
       "      <th>3</th>\n",
       "      <td>00022f989630d14b</td>\n",
       "      <td>library_35</td>\n",
       "      <td>plate_2</td>\n",
       "      <td>E6</td>\n",
       "      <td>E</td>\n",
       "      <td>6</td>\n",
       "      <td>PBMC</td>\n",
       "      <td>donor_0</td>\n",
       "      <td>T cells CD4+</td>\n",
       "      <td>LSM-43216</td>\n",
       "      <td>FK 866</td>\n",
       "      <td>O=C(/C=C/c1cccnc1)NCCCCC1CCN(C(=O)c2ccccc2)CC1</td>\n",
       "      <td>1.0</td>\n",
       "      <td>24</td>\n",
       "      <td>False</td>\n",
       "    </tr>\n",
       "    <tr>\n",
       "      <th>4</th>\n",
       "      <td>0002560bd38ce03e</td>\n",
       "      <td>library_22</td>\n",
       "      <td>plate_4</td>\n",
       "      <td>B6</td>\n",
       "      <td>B</td>\n",
       "      <td>6</td>\n",
       "      <td>PBMC</td>\n",
       "      <td>donor_2</td>\n",
       "      <td>T cells CD4+</td>\n",
       "      <td>LSM-1099</td>\n",
       "      <td>Nilotinib</td>\n",
       "      <td>Cc1cn(-c2cc(NC(=O)c3ccc(C)c(Nc4nccc(-c5cccnc5)...</td>\n",
       "      <td>1.0</td>\n",
       "      <td>24</td>\n",
       "      <td>False</td>\n",
       "    </tr>\n",
       "  </tbody>\n",
       "</table>\n",
       "</div>"
      ],
      "text/plain": [
       "             obs_id  library_id plate_name well row  col cell_id donor_id  \\\n",
       "0  000006a87ba75b72   library_4    plate_4   F7   F    7    PBMC  donor_2   \n",
       "1  0000233976e3cd37   library_0    plate_3   D4   D    4    PBMC  donor_1   \n",
       "2  0001533c5e876362   library_2    plate_0  B11   B   11    PBMC  donor_0   \n",
       "3  00022f989630d14b  library_35    plate_2   E6   E    6    PBMC  donor_0   \n",
       "4  0002560bd38ce03e  library_22    plate_4   B6   B    6    PBMC  donor_2   \n",
       "\n",
       "            cell_type sm_lincs_id      sm_name  \\\n",
       "0        T cells CD4+    LSM-4944     MLN 2238   \n",
       "1        T cells CD4+   LSM-46203   BMS-265246   \n",
       "2  T regulatory cells   LSM-45663  Resminostat   \n",
       "3        T cells CD4+   LSM-43216       FK 866   \n",
       "4        T cells CD4+    LSM-1099    Nilotinib   \n",
       "\n",
       "                                              SMILES  dose_uM  timepoint_hr  \\\n",
       "0      CC(C)C[C@H](NC(=O)CNC(=O)c1cc(Cl)ccc1Cl)B(O)O      1.0            24   \n",
       "1        CCCCOc1c(C(=O)c2c(F)cc(C)cc2F)cnc2[nH]ncc12      1.0            24   \n",
       "2     CN(C)Cc1ccc(S(=O)(=O)n2ccc(/C=C/C(=O)NO)c2)cc1      1.0            24   \n",
       "3     O=C(/C=C/c1cccnc1)NCCCCC1CCN(C(=O)c2ccccc2)CC1      1.0            24   \n",
       "4  Cc1cn(-c2cc(NC(=O)c3ccc(C)c(Nc4nccc(-c5cccnc5)...      1.0            24   \n",
       "\n",
       "   control  \n",
       "0    False  \n",
       "1    False  \n",
       "2    False  \n",
       "3    False  \n",
       "4    False  "
      ]
     },
     "execution_count": 28,
     "metadata": {},
     "output_type": "execute_result"
    }
   ],
   "source": [
    "df_train_meta.head()"
   ]
  },
  {
   "cell_type": "code",
   "execution_count": 29,
   "metadata": {
    "colab": {
     "base_uri": "https://localhost:8080/"
    },
    "executionInfo": {
     "elapsed": 3,
     "status": "ok",
     "timestamp": 1700450438305,
     "user": {
      "displayName": "Moi Knigi",
      "userId": "01206410294984552369"
     },
     "user_tz": 480
    },
    "id": "XLB0uKlKuSxj",
    "outputId": "7de8096d-def4-4602-8048-07e8df92c8ba"
   },
   "outputs": [
    {
     "data": {
      "text/plain": [
       "(240090, 15)"
      ]
     },
     "execution_count": 29,
     "metadata": {},
     "output_type": "execute_result"
    }
   ],
   "source": [
    "df_train_meta.shape"
   ]
  },
  {
   "cell_type": "code",
   "execution_count": 30,
   "metadata": {
    "colab": {
     "base_uri": "https://localhost:8080/"
    },
    "executionInfo": {
     "elapsed": 247,
     "status": "ok",
     "timestamp": 1700450438549,
     "user": {
      "displayName": "Moi Knigi",
      "userId": "01206410294984552369"
     },
     "user_tz": 480
    },
    "id": "QFpwqQ4J0Rou",
    "outputId": "fc934cd7-f5cf-4db0-8676-3e9dd4204f5d"
   },
   "outputs": [
    {
     "data": {
      "text/plain": [
       "array(['T cells CD4+', 'T regulatory cells', 'T cells CD8+', 'NK cells',\n",
       "       'B cells', 'Myeloid cells'], dtype=object)"
      ]
     },
     "execution_count": 30,
     "metadata": {},
     "output_type": "execute_result"
    }
   ],
   "source": [
    "df_train_meta.cell_type.unique()"
   ]
  },
  {
   "cell_type": "code",
   "execution_count": 31,
   "metadata": {
    "id": "qK28FdHtuSvX"
   },
   "outputs": [],
   "source": [
    "ad_train.obs[\"cell_type\"] = pd.Categorical(df_train_meta.cell_type)\n",
    "ad_train.obs[\"sm_name\"] = pd.Categorical(df_train_meta.sm_name)\n",
    "ad_train.obs[\"donor_id\"] = pd.Categorical(df_train_meta.donor_id)\n",
    "ad_train.obs[\"library_id\"] = pd.Categorical(df_train_meta.library_id)\n",
    "ad_train.obs[\"control\"] = pd.Categorical(df_train_meta.control)"
   ]
  },
  {
   "cell_type": "code",
   "execution_count": 32,
   "metadata": {
    "colab": {
     "base_uri": "https://localhost:8080/"
    },
    "executionInfo": {
     "elapsed": 4,
     "status": "ok",
     "timestamp": 1700450438549,
     "user": {
      "displayName": "Moi Knigi",
      "userId": "01206410294984552369"
     },
     "user_tz": 480
    },
    "id": "OpOM25cTuStH",
    "outputId": "3ee45059-a811-413f-d94b-6441bf01b365"
   },
   "outputs": [
    {
     "data": {
      "text/plain": [
       "AnnData object with n_obs × n_vars = 240090 × 21255\n",
       "    obs: 'cell_type', 'sm_name', 'donor_id', 'library_id', 'control'"
      ]
     },
     "execution_count": 32,
     "metadata": {},
     "output_type": "execute_result"
    }
   ],
   "source": [
    "ad_train"
   ]
  },
  {
   "cell_type": "code",
   "execution_count": 33,
   "metadata": {
    "colab": {
     "base_uri": "https://localhost:8080/"
    },
    "executionInfo": {
     "elapsed": 2821,
     "status": "ok",
     "timestamp": 1700450441367,
     "user": {
      "displayName": "Moi Knigi",
      "userId": "01206410294984552369"
     },
     "user_tz": 480
    },
    "id": "zznhYnX8zg9m",
    "outputId": "30007ced-b314-4645-d1c2-1c81019961c8"
   },
   "outputs": [
    {
     "data": {
      "text/plain": [
       "18211"
      ]
     },
     "execution_count": 33,
     "metadata": {},
     "output_type": "execute_result"
    }
   ],
   "source": [
    "# Select genes present in bulk dataset\n",
    "de_train = pd.read_parquet(f\"{DATA}/de_train.parquet\")\n",
    "bulk_genes = de_train.columns[5:]\n",
    "len(bulk_genes)"
   ]
  },
  {
   "cell_type": "code",
   "execution_count": 34,
   "metadata": {
    "id": "Cm5KkRmIvrLU"
   },
   "outputs": [],
   "source": [
    "#de_train.loc[de_train.control==True]"
   ]
  },
  {
   "cell_type": "code",
   "execution_count": 35,
   "metadata": {
    "id": "p2mxHhJmzg0R"
   },
   "outputs": [],
   "source": [
    "# Leave only bulk genes\n",
    "ad_train = ad_train[:,bulk_genes]"
   ]
  },
  {
   "cell_type": "code",
   "execution_count": 36,
   "metadata": {
    "id": "mbxZucjAKgEe"
   },
   "outputs": [],
   "source": [
    "pos_ctr = [\"Dabrafenib\", \"Belinostat\"]\n",
    "neg_ctr = [\"Dimethyl Sulfoxide\"]"
   ]
  },
  {
   "cell_type": "code",
   "execution_count": 37,
   "metadata": {
    "id": "b4P1a2zGxf4h"
   },
   "outputs": [],
   "source": [
    "# Drop positive control samples\n",
    "ad_train = ad_train[~ad_train.obs.sm_name.isin(pos_ctr),:]"
   ]
  },
  {
   "cell_type": "code",
   "execution_count": 38,
   "metadata": {
    "id": "3Qv8KrWGLThM"
   },
   "outputs": [],
   "source": [
    "# All data for bulk genes, no positive controls\n",
    "ad_train.write(f\"{DATA}/ad_train.h5ad\", compression=\"gzip\")"
   ]
  },
  {
   "cell_type": "code",
   "execution_count": 39,
   "metadata": {
    "id": "CEgn6vJOuSqw"
   },
   "outputs": [],
   "source": [
    "# # Selecting cells and perturbations\n",
    "# select_cells = [\"T cells CD4+\"]\n",
    "# # select_sm = ['BMS-265246', 'CEP-18770 (Delanzomib)', 'Dimethyl Sulfoxide']\n",
    "# # select_sm = ['BMS-265246', 'CEP-18770 (Delanzomib)', 'Dimethyl Sulfoxide', \"Canertinib\", \"HMN-214\", \"LDN 193189\", \"LY2090314\"]\n",
    "# select_sm = ['BMS-265246', 'CEP-18770 (Delanzomib)', \"Canertinib\", \"HMN-214\", \"LDN 193189\", \"LY2090314\"]\n",
    "\n",
    "# ad_train_sel = ad_train[ad_train.obs.cell_type.isin(select_cells) &\n",
    "#                         ad_train.obs.sm_name.isin(select_sm)]"
   ]
  },
  {
   "cell_type": "code",
   "execution_count": 71,
   "metadata": {
    "id": "OGe3hQu4shCX"
   },
   "outputs": [],
   "source": [
    "# select_sm = ['BMS-265246', 'CEP-18770 (Delanzomib)', 'Dimethyl Sulfoxide']\n",
    "# select_sm = ['BMS-265246', 'CEP-18770 (Delanzomib)', 'Dimethyl Sulfoxide', \"Canertinib\", \"HMN-214\", \"LDN 193189\", \"LY2090314\"]\n",
    "\n",
    "# ad_train_sel = ad_train[ad_train.obs.sm_name.isin(select_sm)]\n",
    "ad_train_sel = ad_train[ad_train.obs.donor_id=='donor_2']"
   ]
  },
  {
   "cell_type": "code",
   "execution_count": 72,
   "metadata": {},
   "outputs": [
    {
     "data": {
      "text/plain": [
       "View of AnnData object with n_obs × n_vars = 67016 × 18211\n",
       "    obs: 'cell_type', 'sm_name', 'donor_id', 'library_id', 'control'"
      ]
     },
     "execution_count": 72,
     "metadata": {},
     "output_type": "execute_result"
    }
   ],
   "source": [
    "ad_train_sel"
   ]
  },
  {
   "cell_type": "code",
   "execution_count": 73,
   "metadata": {
    "id": "ThL4rpIFvrBz"
   },
   "outputs": [],
   "source": [
    "ad_train_sel.write(f\"{DATA}/ad_train.donor_2.h5ad\", compression=\"gzip\")"
   ]
  },
  {
   "cell_type": "code",
   "execution_count": 42,
   "metadata": {
    "colab": {
     "base_uri": "https://localhost:8080/"
    },
    "executionInfo": {
     "elapsed": 6,
     "status": "ok",
     "timestamp": 1700432930474,
     "user": {
      "displayName": "Moi Knigi",
      "userId": "01206410294984552369"
     },
     "user_tz": 480
    },
    "id": "BWt4s6BMs1OT",
    "outputId": "d866407c-8a31-48f5-d50e-28346f6c4a23"
   },
   "outputs": [
    {
     "data": {
      "text/plain": [
       "View of AnnData object with n_obs × n_vars = 189685 × 18211\n",
       "    obs: 'cell_type', 'sm_name', 'donor_id', 'library_id', 'control'"
      ]
     },
     "execution_count": 42,
     "metadata": {},
     "output_type": "execute_result"
    }
   ],
   "source": [
    "ad_train_sel"
   ]
  },
  {
   "cell_type": "code",
   "execution_count": 43,
   "metadata": {
    "id": "PB5yByE9vq_o"
   },
   "outputs": [],
   "source": [
    "# ad_train_sel.X = ad_train_sel.X.astype(float)"
   ]
  },
  {
   "cell_type": "markdown",
   "metadata": {
    "id": "KHxANZ3wX4HY"
   },
   "source": [
    "# Exploration"
   ]
  },
  {
   "cell_type": "code",
   "execution_count": 44,
   "metadata": {
    "colab": {
     "base_uri": "https://localhost:8080/",
     "height": 447
    },
    "executionInfo": {
     "elapsed": 617,
     "status": "ok",
     "timestamp": 1700427675256,
     "user": {
      "displayName": "Moi Knigi",
      "userId": "01206410294984552369"
     },
     "user_tz": 480
    },
    "id": "5rDBznsyX38I",
    "outputId": "f7bff4cf-47a2-490c-9e67-ae1627bc5736"
   },
   "outputs": [
    {
     "data": {
      "text/plain": [
       "<Axes: ylabel='Frequency'>"
      ]
     },
     "execution_count": 44,
     "metadata": {},
     "output_type": "execute_result"
    },
    {
     "data": {
      "image/png": "[encoded data removed]",
      "text/plain": [
       "<Figure size 640x480 with 1 Axes>"
      ]
     },
     "metadata": {},
     "output_type": "display_data"
    }
   ],
   "source": [
    "df_train.head(1000000)[\"normalized_count\"].plot.hist(bins=100)"
   ]
  },
  {
   "cell_type": "code",
   "execution_count": 45,
   "metadata": {
    "id": "-0uDGpqKX3vG"
   },
   "outputs": [],
   "source": [
    "cell_types = ad_train.obs.cell_type.unique()\n",
    "perturbations = ad_train.obs.sm_name.unique()"
   ]
  },
  {
   "cell_type": "code",
   "execution_count": 46,
   "metadata": {
    "colab": {
     "base_uri": "https://localhost:8080/"
    },
    "executionInfo": {
     "elapsed": 138,
     "status": "ok",
     "timestamp": 1700452412191,
     "user": {
      "displayName": "Moi Knigi",
      "userId": "01206410294984552369"
     },
     "user_tz": 480
    },
    "id": "AGhnD2vP2TRi",
    "outputId": "d3bb76ca-cd65-41c6-8a2c-8b8ede930ba2"
   },
   "outputs": [
    {
     "data": {
      "text/plain": [
       "(54, 18211)"
      ]
     },
     "execution_count": 46,
     "metadata": {},
     "output_type": "execute_result"
    }
   ],
   "source": [
    "ad_train[(ad_train.obs.cell_type==cell_types[1]) & (ad_train.obs.sm_name==perturbations[1]), :].shape"
   ]
  },
  {
   "cell_type": "code",
   "execution_count": 47,
   "metadata": {
    "id": "i_hAOirV2TPj"
   },
   "outputs": [],
   "source": [
    "data = np.nan * np.empty((len(perturbations), len(cell_types)))\n",
    "df_stats = pd.DataFrame(data, index=perturbations, columns=cell_types)"
   ]
  },
  {
   "cell_type": "code",
   "execution_count": 48,
   "metadata": {
    "id": "emcJxCOw2TNP"
   },
   "outputs": [],
   "source": [
    "# fill out table with numbers of samples per condition and cell type\n",
    "for idx in perturbations:\n",
    "  for col in cell_types:\n",
    "    df_stats.loc[idx, col] = ad_train[(ad_train.obs.cell_type==col) & (ad_train.obs.sm_name==idx), :].shape[0]"
   ]
  },
  {
   "cell_type": "code",
   "execution_count": 49,
   "metadata": {
    "colab": {
     "base_uri": "https://localhost:8080/",
     "height": 424
    },
    "executionInfo": {
     "elapsed": 150,
     "status": "ok",
     "timestamp": 1700453694770,
     "user": {
      "displayName": "Moi Knigi",
      "userId": "01206410294984552369"
     },
     "user_tz": 480
    },
    "id": "UeB6I3By2TKv",
    "outputId": "63526f5d-3992-45c3-8d76-89be93c6f9fe"
   },
   "outputs": [
    {
     "data": {
      "text/html": [
       "<div>\n",
       "<style scoped>\n",
       "    .dataframe tbody tr th:only-of-type {\n",
       "        vertical-align: middle;\n",
       "    }\n",
       "\n",
       "    .dataframe tbody tr th {\n",
       "        vertical-align: top;\n",
       "    }\n",
       "\n",
       "    .dataframe thead th {\n",
       "        text-align: right;\n",
       "    }\n",
       "</style>\n",
       "<table border=\"1\" class=\"dataframe\">\n",
       "  <thead>\n",
       "    <tr style=\"text-align: right;\">\n",
       "      <th></th>\n",
       "      <th>T cells CD4+</th>\n",
       "      <th>T regulatory cells</th>\n",
       "      <th>NK cells</th>\n",
       "      <th>T cells CD8+</th>\n",
       "      <th>B cells</th>\n",
       "      <th>Myeloid cells</th>\n",
       "    </tr>\n",
       "  </thead>\n",
       "  <tbody>\n",
       "    <tr>\n",
       "      <th>MLN 2238</th>\n",
       "      <td>697.0</td>\n",
       "      <td>1.0</td>\n",
       "      <td>4.0</td>\n",
       "      <td>392.0</td>\n",
       "      <td>2.0</td>\n",
       "      <td>5.0</td>\n",
       "    </tr>\n",
       "    <tr>\n",
       "      <th>BMS-265246</th>\n",
       "      <td>895.0</td>\n",
       "      <td>54.0</td>\n",
       "      <td>430.0</td>\n",
       "      <td>77.0</td>\n",
       "      <td>0.0</td>\n",
       "      <td>0.0</td>\n",
       "    </tr>\n",
       "    <tr>\n",
       "      <th>Resminostat</th>\n",
       "      <td>933.0</td>\n",
       "      <td>12.0</td>\n",
       "      <td>320.0</td>\n",
       "      <td>0.0</td>\n",
       "      <td>0.0</td>\n",
       "      <td>0.0</td>\n",
       "    </tr>\n",
       "    <tr>\n",
       "      <th>FK 866</th>\n",
       "      <td>532.0</td>\n",
       "      <td>46.0</td>\n",
       "      <td>260.0</td>\n",
       "      <td>62.0</td>\n",
       "      <td>0.0</td>\n",
       "      <td>0.0</td>\n",
       "    </tr>\n",
       "    <tr>\n",
       "      <th>Nilotinib</th>\n",
       "      <td>529.0</td>\n",
       "      <td>28.0</td>\n",
       "      <td>287.0</td>\n",
       "      <td>84.0</td>\n",
       "      <td>0.0</td>\n",
       "      <td>0.0</td>\n",
       "    </tr>\n",
       "    <tr>\n",
       "      <th>...</th>\n",
       "      <td>...</td>\n",
       "      <td>...</td>\n",
       "      <td>...</td>\n",
       "      <td>...</td>\n",
       "      <td>...</td>\n",
       "      <td>...</td>\n",
       "    </tr>\n",
       "    <tr>\n",
       "      <th>Crizotinib</th>\n",
       "      <td>506.0</td>\n",
       "      <td>37.0</td>\n",
       "      <td>305.0</td>\n",
       "      <td>87.0</td>\n",
       "      <td>215.0</td>\n",
       "      <td>117.0</td>\n",
       "    </tr>\n",
       "    <tr>\n",
       "      <th>BMS-387032</th>\n",
       "      <td>143.0</td>\n",
       "      <td>68.0</td>\n",
       "      <td>195.0</td>\n",
       "      <td>10.0</td>\n",
       "      <td>0.0</td>\n",
       "      <td>0.0</td>\n",
       "    </tr>\n",
       "    <tr>\n",
       "      <th>UNII-BXU45ZH6LI</th>\n",
       "      <td>257.0</td>\n",
       "      <td>16.0</td>\n",
       "      <td>28.0</td>\n",
       "      <td>6.0</td>\n",
       "      <td>0.0</td>\n",
       "      <td>0.0</td>\n",
       "    </tr>\n",
       "    <tr>\n",
       "      <th>Alvocidib</th>\n",
       "      <td>8.0</td>\n",
       "      <td>33.0</td>\n",
       "      <td>6.0</td>\n",
       "      <td>0.0</td>\n",
       "      <td>3.0</td>\n",
       "      <td>1.0</td>\n",
       "    </tr>\n",
       "    <tr>\n",
       "      <th>CGP 60474</th>\n",
       "      <td>15.0</td>\n",
       "      <td>68.0</td>\n",
       "      <td>6.0</td>\n",
       "      <td>0.0</td>\n",
       "      <td>0.0</td>\n",
       "      <td>0.0</td>\n",
       "    </tr>\n",
       "  </tbody>\n",
       "</table>\n",
       "<p>145 rows × 6 columns</p>\n",
       "</div>"
      ],
      "text/plain": [
       "                 T cells CD4+  T regulatory cells  NK cells  T cells CD8+  \\\n",
       "MLN 2238                697.0                 1.0       4.0         392.0   \n",
       "BMS-265246              895.0                54.0     430.0          77.0   \n",
       "Resminostat             933.0                12.0     320.0           0.0   \n",
       "FK 866                  532.0                46.0     260.0          62.0   \n",
       "Nilotinib               529.0                28.0     287.0          84.0   \n",
       "...                       ...                 ...       ...           ...   \n",
       "Crizotinib              506.0                37.0     305.0          87.0   \n",
       "BMS-387032              143.0                68.0     195.0          10.0   \n",
       "UNII-BXU45ZH6LI         257.0                16.0      28.0           6.0   \n",
       "Alvocidib                 8.0                33.0       6.0           0.0   \n",
       "CGP 60474                15.0                68.0       6.0           0.0   \n",
       "\n",
       "                 B cells  Myeloid cells  \n",
       "MLN 2238             2.0            5.0  \n",
       "BMS-265246           0.0            0.0  \n",
       "Resminostat          0.0            0.0  \n",
       "FK 866               0.0            0.0  \n",
       "Nilotinib            0.0            0.0  \n",
       "...                  ...            ...  \n",
       "Crizotinib         215.0          117.0  \n",
       "BMS-387032           0.0            0.0  \n",
       "UNII-BXU45ZH6LI      0.0            0.0  \n",
       "Alvocidib            3.0            1.0  \n",
       "CGP 60474            0.0            0.0  \n",
       "\n",
       "[145 rows x 6 columns]"
      ]
     },
     "execution_count": 49,
     "metadata": {},
     "output_type": "execute_result"
    }
   ],
   "source": [
    "df_stats"
   ]
  },
  {
   "cell_type": "code",
   "execution_count": 50,
   "metadata": {
    "id": "vydBZHHWBbCG"
   },
   "outputs": [],
   "source": [
    "sel_cells = [\"T cells CD4+\", \"T regulatory cells\",\t\"NK cells\",\t\"T cells CD8+\"]"
   ]
  },
  {
   "cell_type": "code",
   "execution_count": 51,
   "metadata": {
    "colab": {
     "base_uri": "https://localhost:8080/"
    },
    "executionInfo": {
     "elapsed": 2,
     "status": "ok",
     "timestamp": 1700453531660,
     "user": {
      "displayName": "Moi Knigi",
      "userId": "01206410294984552369"
     },
     "user_tz": 480
    },
    "id": "SDOvD-Jn6dfj",
    "outputId": "784ec1e7-6613-49ff-a227-9625253bed77"
   },
   "outputs": [
    {
     "data": {
      "text/plain": [
       "Dimethyl Sulfoxide    18668.0\n",
       "HMN-214                1514.0\n",
       "Methotrexate           1482.0\n",
       "Canertinib             1476.0\n",
       "BMS-265246             1456.0\n",
       "                       ...   \n",
       "ABT737                  655.0\n",
       "BMS-387032              416.0\n",
       "UNII-BXU45ZH6LI         307.0\n",
       "CGP 60474                89.0\n",
       "Alvocidib                47.0\n",
       "Length: 145, dtype: float64"
      ]
     },
     "execution_count": 51,
     "metadata": {},
     "output_type": "execute_result"
    }
   ],
   "source": [
    "df_stats[sel_cells].sum(axis=1).sort_values(ascending=False)"
   ]
  },
  {
   "cell_type": "code",
   "execution_count": 52,
   "metadata": {
    "id": "hLmdYUTZ7iiL"
   },
   "outputs": [],
   "source": [
    "# Select perturbations with largest number of samples\n",
    "sel_perturb = df_stats[sel_cells].sum(axis=1).sort_values(ascending=False).index[:11]"
   ]
  },
  {
   "cell_type": "code",
   "execution_count": 53,
   "metadata": {
    "colab": {
     "base_uri": "https://localhost:8080/",
     "height": 394
    },
    "executionInfo": {
     "elapsed": 144,
     "status": "ok",
     "timestamp": 1700453660315,
     "user": {
      "displayName": "Moi Knigi",
      "userId": "01206410294984552369"
     },
     "user_tz": 480
    },
    "id": "OObKCwNe7igV",
    "outputId": "6388369e-0bc6-42dc-8d66-e0f042c068c6"
   },
   "outputs": [
    {
     "data": {
      "text/html": [
       "<div>\n",
       "<style scoped>\n",
       "    .dataframe tbody tr th:only-of-type {\n",
       "        vertical-align: middle;\n",
       "    }\n",
       "\n",
       "    .dataframe tbody tr th {\n",
       "        vertical-align: top;\n",
       "    }\n",
       "\n",
       "    .dataframe thead th {\n",
       "        text-align: right;\n",
       "    }\n",
       "</style>\n",
       "<table border=\"1\" class=\"dataframe\">\n",
       "  <thead>\n",
       "    <tr style=\"text-align: right;\">\n",
       "      <th></th>\n",
       "      <th>T cells CD4+</th>\n",
       "      <th>T regulatory cells</th>\n",
       "      <th>NK cells</th>\n",
       "      <th>T cells CD8+</th>\n",
       "    </tr>\n",
       "  </thead>\n",
       "  <tbody>\n",
       "    <tr>\n",
       "      <th>Dimethyl Sulfoxide</th>\n",
       "      <td>10778.0</td>\n",
       "      <td>812.0</td>\n",
       "      <td>5782.0</td>\n",
       "      <td>1296.0</td>\n",
       "    </tr>\n",
       "    <tr>\n",
       "      <th>HMN-214</th>\n",
       "      <td>920.0</td>\n",
       "      <td>61.0</td>\n",
       "      <td>457.0</td>\n",
       "      <td>76.0</td>\n",
       "    </tr>\n",
       "    <tr>\n",
       "      <th>Methotrexate</th>\n",
       "      <td>863.0</td>\n",
       "      <td>73.0</td>\n",
       "      <td>471.0</td>\n",
       "      <td>75.0</td>\n",
       "    </tr>\n",
       "    <tr>\n",
       "      <th>Canertinib</th>\n",
       "      <td>918.0</td>\n",
       "      <td>69.0</td>\n",
       "      <td>413.0</td>\n",
       "      <td>76.0</td>\n",
       "    </tr>\n",
       "    <tr>\n",
       "      <th>BMS-265246</th>\n",
       "      <td>895.0</td>\n",
       "      <td>54.0</td>\n",
       "      <td>430.0</td>\n",
       "      <td>77.0</td>\n",
       "    </tr>\n",
       "    <tr>\n",
       "      <th>Lapatinib</th>\n",
       "      <td>806.0</td>\n",
       "      <td>71.0</td>\n",
       "      <td>422.0</td>\n",
       "      <td>93.0</td>\n",
       "    </tr>\n",
       "    <tr>\n",
       "      <th>Ganetespib (STA-9090)</th>\n",
       "      <td>544.0</td>\n",
       "      <td>4.0</td>\n",
       "      <td>779.0</td>\n",
       "      <td>12.0</td>\n",
       "    </tr>\n",
       "    <tr>\n",
       "      <th>Topotecan</th>\n",
       "      <td>765.0</td>\n",
       "      <td>74.0</td>\n",
       "      <td>414.0</td>\n",
       "      <td>79.0</td>\n",
       "    </tr>\n",
       "    <tr>\n",
       "      <th>Phenylbutazone</th>\n",
       "      <td>779.0</td>\n",
       "      <td>68.0</td>\n",
       "      <td>402.0</td>\n",
       "      <td>78.0</td>\n",
       "    </tr>\n",
       "    <tr>\n",
       "      <th>LDN 193189</th>\n",
       "      <td>813.0</td>\n",
       "      <td>55.0</td>\n",
       "      <td>385.0</td>\n",
       "      <td>74.0</td>\n",
       "    </tr>\n",
       "    <tr>\n",
       "      <th>Riociguat</th>\n",
       "      <td>785.0</td>\n",
       "      <td>55.0</td>\n",
       "      <td>375.0</td>\n",
       "      <td>102.0</td>\n",
       "    </tr>\n",
       "  </tbody>\n",
       "</table>\n",
       "</div>"
      ],
      "text/plain": [
       "                       T cells CD4+  T regulatory cells  NK cells  \\\n",
       "Dimethyl Sulfoxide          10778.0               812.0    5782.0   \n",
       "HMN-214                       920.0                61.0     457.0   \n",
       "Methotrexate                  863.0                73.0     471.0   \n",
       "Canertinib                    918.0                69.0     413.0   \n",
       "BMS-265246                    895.0                54.0     430.0   \n",
       "Lapatinib                     806.0                71.0     422.0   \n",
       "Ganetespib (STA-9090)         544.0                 4.0     779.0   \n",
       "Topotecan                     765.0                74.0     414.0   \n",
       "Phenylbutazone                779.0                68.0     402.0   \n",
       "LDN 193189                    813.0                55.0     385.0   \n",
       "Riociguat                     785.0                55.0     375.0   \n",
       "\n",
       "                       T cells CD8+  \n",
       "Dimethyl Sulfoxide           1296.0  \n",
       "HMN-214                        76.0  \n",
       "Methotrexate                   75.0  \n",
       "Canertinib                     76.0  \n",
       "BMS-265246                     77.0  \n",
       "Lapatinib                      93.0  \n",
       "Ganetespib (STA-9090)          12.0  \n",
       "Topotecan                      79.0  \n",
       "Phenylbutazone                 78.0  \n",
       "LDN 193189                     74.0  \n",
       "Riociguat                     102.0  "
      ]
     },
     "execution_count": 53,
     "metadata": {},
     "output_type": "execute_result"
    }
   ],
   "source": [
    "# Number of samples per drug/cell_type\n",
    "df_stats.loc[sel_perturb, sel_cells]"
   ]
  },
  {
   "cell_type": "code",
   "execution_count": 54,
   "metadata": {
    "id": "HDCn6pI_7id_"
   },
   "outputs": [],
   "source": [
    "ad_train_sel = ad_train[ad_train.obs.sm_name.isin(sel_perturb) & ad_train.obs.cell_type.isin(sel_cells)]"
   ]
  },
  {
   "cell_type": "code",
   "execution_count": 55,
   "metadata": {
    "id": "jOiGSGCC7ibt"
   },
   "outputs": [],
   "source": [
    "ad_train_sel.write(f\"{DATA}/ad_train.top_drugs.h5ad\", compression=\"gzip\")"
   ]
  },
  {
   "cell_type": "code",
   "execution_count": null,
   "metadata": {
    "id": "ihHka5WS6dcY"
   },
   "outputs": [],
   "source": []
  },
  {
   "cell_type": "markdown",
   "metadata": {
    "id": "r4GtI1d-1oVi"
   },
   "source": [
    "# Test (TMP)"
   ]
  },
  {
   "cell_type": "code",
   "execution_count": null,
   "metadata": {
    "id": "m016jnob21f2"
   },
   "outputs": [],
   "source": [
    "from anndata.experimental.pytorch import AnnLoader"
   ]
  },
  {
   "cell_type": "code",
   "execution_count": null,
   "metadata": {
    "id": "PGmJwijBvq9X"
   },
   "outputs": [],
   "source": [
    "# Load the Anndata object\n",
    "# adata = sc.read('data.h5ad')\n",
    "# adata = ad.read('ad_train.sel.h5ad', backed='r')\n",
    "# adata.file.close()\n",
    "\n",
    "\n",
    "ad_train1 = ad.read_h5ad('ad_train.sel.h5ad')"
   ]
  },
  {
   "cell_type": "code",
   "execution_count": null,
   "metadata": {
    "id": "MuK5s6bYvq6y"
   },
   "outputs": [],
   "source": [
    "# Create a dataloader with a batch size of 128 and shuffle the data\n",
    "dataloader = AnnLoader(ad_train1, batch_size=32, shuffle=True)"
   ]
  },
  {
   "cell_type": "code",
   "execution_count": null,
   "metadata": {
    "colab": {
     "base_uri": "https://localhost:8080/"
    },
    "executionInfo": {
     "elapsed": 1261,
     "status": "ok",
     "timestamp": 1700367821959,
     "user": {
      "displayName": "Moi Knigi",
      "userId": "01206410294984552369"
     },
     "user_tz": 480
    },
    "id": "FLUyIzgivq4S",
    "outputId": "54862649-1b89-40fa-e7de-722dc9b79863"
   },
   "outputs": [
    {
     "name": "stderr",
     "output_type": "stream",
     "text": [
      "100%|██████████| 393/393 [00:00<00:00, 523.35it/s]\n"
     ]
    }
   ],
   "source": [
    "for batch in tq.tqdm(dataloader):\n",
    "    # Get the input data and labels\n",
    "    batch = batch.X\n"
   ]
  },
  {
   "cell_type": "code",
   "execution_count": null,
   "metadata": {
    "colab": {
     "base_uri": "https://localhost:8080/"
    },
    "executionInfo": {
     "elapsed": 4,
     "status": "ok",
     "timestamp": 1700367823410,
     "user": {
      "displayName": "Moi Knigi",
      "userId": "01206410294984552369"
     },
     "user_tz": 480
    },
    "id": "SgCHeBzuvq1r",
    "outputId": "e80e9443-2a28-4e77-ea55-c69718826b48"
   },
   "outputs": [
    {
     "data": {
      "text/plain": [
       "torch.Size([27, 18211])"
      ]
     },
     "execution_count": 30,
     "metadata": {},
     "output_type": "execute_result"
    }
   ],
   "source": [
    "batch.shape"
   ]
  },
  {
   "cell_type": "code",
   "execution_count": null,
   "metadata": {
    "id": "jYtXfhgr0hk2"
   },
   "outputs": [],
   "source": []
  }
 ],
 "metadata": {
  "colab": {
   "authorship_tag": "ABX9TyPn9TC1FVmO0Ka7AxXoboX5",
   "mount_file_id": "1s7xtkPH4ao5ajfapKCaPy7TPN525FRn-",
   "provenance": []
  },
  "kernelspec": {
   "display_name": "Python 3 (ipykernel)",
   "language": "python",
   "name": "python3"
  },
  "language_info": {
   "codemirror_mode": {
    "name": "ipython",
    "version": 3
   },
   "file_extension": ".py",
   "mimetype": "text/x-python",
   "name": "python",
   "nbconvert_exporter": "python",
   "pygments_lexer": "ipython3",
   "version": "3.8.17"
  }
 },
 "nbformat": 4,
 "nbformat_minor": 4
}
