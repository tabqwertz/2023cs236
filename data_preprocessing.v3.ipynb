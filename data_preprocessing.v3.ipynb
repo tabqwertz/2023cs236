{
 "cells": [
  {
   "cell_type": "code",
   "execution_count": 1,
   "metadata": {
    "colab": {
     "base_uri": "https://localhost:8080/"
    },
    "executionInfo": {
     "elapsed": 7368,
     "status": "ok",
     "timestamp": 1700897735392,
     "user": {
      "displayName": "Moi Knigi",
      "userId": "01206410294984552369"
     },
     "user_tz": 480
    },
    "id": "zjYf1ksSyiGK",
    "outputId": "80194a9b-6f4b-4ccb-a8eb-ed945c0a46f6"
   },
   "outputs": [],
   "source": [
    "# !pip install anndata"
   ]
  },
  {
   "cell_type": "code",
   "execution_count": 82,
   "metadata": {
    "id": "Aj23lzOljINA"
   },
   "outputs": [],
   "source": [
    "import numpy as np\n",
    "import pandas as pd\n",
    "import tqdm as tq\n",
    "import anndata as ad\n",
    "from scipy.sparse import csr_matrix\n",
    "from scipy.sparse import coo_matrix"
   ]
  },
  {
   "cell_type": "code",
   "execution_count": 83,
   "metadata": {
    "id": "qh9bpZnzjOFe"
   },
   "outputs": [],
   "source": [
    "import matplotlib.pyplot as plt"
   ]
  },
  {
   "cell_type": "markdown",
   "metadata": {
    "id": "56b2cMO_rN-c"
   },
   "source": [
    "# Preprocess data"
   ]
  },
  {
   "cell_type": "code",
   "execution_count": 84,
   "metadata": {
    "id": "4nT-UA0CtPP-"
   },
   "outputs": [],
   "source": [
    "DATA = \"data\""
   ]
  },
  {
   "cell_type": "code",
   "execution_count": 85,
   "metadata": {
    "id": "fhwC8TN4tPOC"
   },
   "outputs": [],
   "source": [
    "df_train = pd.read_parquet(f\"{DATA}/adata_train.parquet\", engine=\"pyarrow\")"
   ]
  },
  {
   "cell_type": "code",
   "execution_count": 86,
   "metadata": {
    "id": "P1sKS3oA_KTx"
   },
   "outputs": [],
   "source": [
    "# df_train[\"count\"] = df_train[[\"count\"]].astype(float)"
   ]
  },
  {
   "cell_type": "code",
   "execution_count": 87,
   "metadata": {
    "colab": {
     "base_uri": "https://localhost:8080/",
     "height": 206
    },
    "executionInfo": {
     "elapsed": 9,
     "status": "ok",
     "timestamp": 1700897803839,
     "user": {
      "displayName": "Moi Knigi",
      "userId": "01206410294984552369"
     },
     "user_tz": 480
    },
    "id": "RiA6EwLRtPLx",
    "outputId": "25461eb5-7302-4605-c0e5-1d5f9c2c6d8d"
   },
   "outputs": [
    {
     "data": {
      "text/html": [
       "<div>\n",
       "<style scoped>\n",
       "    .dataframe tbody tr th:only-of-type {\n",
       "        vertical-align: middle;\n",
       "    }\n",
       "\n",
       "    .dataframe tbody tr th {\n",
       "        vertical-align: top;\n",
       "    }\n",
       "\n",
       "    .dataframe thead th {\n",
       "        text-align: right;\n",
       "    }\n",
       "</style>\n",
       "<table border=\"1\" class=\"dataframe\">\n",
       "  <thead>\n",
       "    <tr style=\"text-align: right;\">\n",
       "      <th></th>\n",
       "      <th>obs_id</th>\n",
       "      <th>gene</th>\n",
       "      <th>count</th>\n",
       "      <th>normalized_count</th>\n",
       "    </tr>\n",
       "  </thead>\n",
       "  <tbody>\n",
       "    <tr>\n",
       "      <th>0</th>\n",
       "      <td>000006a87ba75b72</td>\n",
       "      <td>AATF</td>\n",
       "      <td>1</td>\n",
       "      <td>5.567933</td>\n",
       "    </tr>\n",
       "    <tr>\n",
       "      <th>1</th>\n",
       "      <td>000006a87ba75b72</td>\n",
       "      <td>ABHD12</td>\n",
       "      <td>1</td>\n",
       "      <td>5.567933</td>\n",
       "    </tr>\n",
       "    <tr>\n",
       "      <th>2</th>\n",
       "      <td>000006a87ba75b72</td>\n",
       "      <td>ABHD3</td>\n",
       "      <td>1</td>\n",
       "      <td>5.567933</td>\n",
       "    </tr>\n",
       "    <tr>\n",
       "      <th>3</th>\n",
       "      <td>000006a87ba75b72</td>\n",
       "      <td>AC004687.1</td>\n",
       "      <td>1</td>\n",
       "      <td>5.567933</td>\n",
       "    </tr>\n",
       "    <tr>\n",
       "      <th>4</th>\n",
       "      <td>000006a87ba75b72</td>\n",
       "      <td>AC009779.2</td>\n",
       "      <td>1</td>\n",
       "      <td>5.567933</td>\n",
       "    </tr>\n",
       "  </tbody>\n",
       "</table>\n",
       "</div>"
      ],
      "text/plain": [
       "             obs_id        gene  count  normalized_count\n",
       "0  000006a87ba75b72        AATF      1          5.567933\n",
       "1  000006a87ba75b72      ABHD12      1          5.567933\n",
       "2  000006a87ba75b72       ABHD3      1          5.567933\n",
       "3  000006a87ba75b72  AC004687.1      1          5.567933\n",
       "4  000006a87ba75b72  AC009779.2      1          5.567933"
      ]
     },
     "execution_count": 87,
     "metadata": {},
     "output_type": "execute_result"
    }
   ],
   "source": [
    "df_train.head()"
   ]
  },
  {
   "cell_type": "code",
   "execution_count": null,
   "metadata": {
    "id": "7dHeudBbWy7R"
   },
   "outputs": [],
   "source": []
  },
  {
   "cell_type": "code",
   "execution_count": 88,
   "metadata": {
    "id": "WX6QLCF0tPJl"
   },
   "outputs": [],
   "source": [
    "# df_train = df_train.head(1000000)\n",
    "# df_train_h = df_train"
   ]
  },
  {
   "cell_type": "code",
   "execution_count": 89,
   "metadata": {
    "id": "1N89oupPtPHT"
   },
   "outputs": [],
   "source": [
    "df_train['obs_id'] = df_train['obs_id'].astype('category')\n",
    "X_train = csr_matrix((df_train[\"count\"], (df_train[\"obs_id\"].cat.codes, pd.Categorical(df_train[\"gene\"]).codes)))\n",
    "# X_train = csr_matrix((df_train[\"normalized_count\"], (df_train[\"obs_id\"].cat.codes, pd.Categorical(df_train[\"gene\"]).codes)))"
   ]
  },
  {
   "cell_type": "code",
   "execution_count": 90,
   "metadata": {
    "colab": {
     "base_uri": "https://localhost:8080/"
    },
    "executionInfo": {
     "elapsed": 167,
     "status": "ok",
     "timestamp": 1700897897131,
     "user": {
      "displayName": "Moi Knigi",
      "userId": "01206410294984552369"
     },
     "user_tz": 480
    },
    "id": "hOTII_Lky0lW",
    "outputId": "9310d0e3-ef18-4d9b-d58c-ffb46184333b"
   },
   "outputs": [
    {
     "data": {
      "text/plain": [
       "(240090, 21255)"
      ]
     },
     "execution_count": 90,
     "metadata": {},
     "output_type": "execute_result"
    }
   ],
   "source": [
    "X_train.shape"
   ]
  },
  {
   "cell_type": "code",
   "execution_count": null,
   "metadata": {
    "id": "7KjB94Dpy8ug"
   },
   "outputs": [],
   "source": []
  },
  {
   "cell_type": "code",
   "execution_count": 91,
   "metadata": {
    "id": "ocGKsFsFuGVX"
   },
   "outputs": [],
   "source": [
    "ad_train = ad.AnnData(X_train)"
   ]
  },
  {
   "cell_type": "code",
   "execution_count": 92,
   "metadata": {
    "id": "U0Q40QfjuGTc"
   },
   "outputs": [],
   "source": [
    "ad_train.obs_names = df_train[\"obs_id\"].cat.categories\n",
    "ad_train.var_names = pd.Categorical(df_train[\"gene\"]).categories"
   ]
  },
  {
   "cell_type": "code",
   "execution_count": 93,
   "metadata": {
    "id": "EChUS77QuGRM"
   },
   "outputs": [],
   "source": [
    "df_train_meta = pd.read_csv(f\"{DATA}/adata_obs_meta.csv\")"
   ]
  },
  {
   "cell_type": "code",
   "execution_count": 94,
   "metadata": {
    "colab": {
     "base_uri": "https://localhost:8080/",
     "height": 313
    },
    "executionInfo": {
     "elapsed": 11,
     "status": "ok",
     "timestamp": 1700897954467,
     "user": {
      "displayName": "Moi Knigi",
      "userId": "01206410294984552369"
     },
     "user_tz": 480
    },
    "id": "2KKVranduGOl",
    "outputId": "437a6d90-ce13-407c-ca56-1e9578e02b33"
   },
   "outputs": [
    {
     "data": {
      "text/html": [
       "<div>\n",
       "<style scoped>\n",
       "    .dataframe tbody tr th:only-of-type {\n",
       "        vertical-align: middle;\n",
       "    }\n",
       "\n",
       "    .dataframe tbody tr th {\n",
       "        vertical-align: top;\n",
       "    }\n",
       "\n",
       "    .dataframe thead th {\n",
       "        text-align: right;\n",
       "    }\n",
       "</style>\n",
       "<table border=\"1\" class=\"dataframe\">\n",
       "  <thead>\n",
       "    <tr style=\"text-align: right;\">\n",
       "      <th></th>\n",
       "      <th>obs_id</th>\n",
       "      <th>library_id</th>\n",
       "      <th>plate_name</th>\n",
       "      <th>well</th>\n",
       "      <th>row</th>\n",
       "      <th>col</th>\n",
       "      <th>cell_id</th>\n",
       "      <th>donor_id</th>\n",
       "      <th>cell_type</th>\n",
       "      <th>sm_lincs_id</th>\n",
       "      <th>sm_name</th>\n",
       "      <th>SMILES</th>\n",
       "      <th>dose_uM</th>\n",
       "      <th>timepoint_hr</th>\n",
       "      <th>control</th>\n",
       "    </tr>\n",
       "  </thead>\n",
       "  <tbody>\n",
       "    <tr>\n",
       "      <th>0</th>\n",
       "      <td>000006a87ba75b72</td>\n",
       "      <td>library_4</td>\n",
       "      <td>plate_4</td>\n",
       "      <td>F7</td>\n",
       "      <td>F</td>\n",
       "      <td>7</td>\n",
       "      <td>PBMC</td>\n",
       "      <td>donor_2</td>\n",
       "      <td>T cells CD4+</td>\n",
       "      <td>LSM-4944</td>\n",
       "      <td>MLN 2238</td>\n",
       "      <td>CC(C)C[C@H](NC(=O)CNC(=O)c1cc(Cl)ccc1Cl)B(O)O</td>\n",
       "      <td>1.0</td>\n",
       "      <td>24</td>\n",
       "      <td>False</td>\n",
       "    </tr>\n",
       "    <tr>\n",
       "      <th>1</th>\n",
       "      <td>0000233976e3cd37</td>\n",
       "      <td>library_0</td>\n",
       "      <td>plate_3</td>\n",
       "      <td>D4</td>\n",
       "      <td>D</td>\n",
       "      <td>4</td>\n",
       "      <td>PBMC</td>\n",
       "      <td>donor_1</td>\n",
       "      <td>T cells CD4+</td>\n",
       "      <td>LSM-46203</td>\n",
       "      <td>BMS-265246</td>\n",
       "      <td>CCCCOc1c(C(=O)c2c(F)cc(C)cc2F)cnc2[nH]ncc12</td>\n",
       "      <td>1.0</td>\n",
       "      <td>24</td>\n",
       "      <td>False</td>\n",
       "    </tr>\n",
       "    <tr>\n",
       "      <th>2</th>\n",
       "      <td>0001533c5e876362</td>\n",
       "      <td>library_2</td>\n",
       "      <td>plate_0</td>\n",
       "      <td>B11</td>\n",
       "      <td>B</td>\n",
       "      <td>11</td>\n",
       "      <td>PBMC</td>\n",
       "      <td>donor_0</td>\n",
       "      <td>T regulatory cells</td>\n",
       "      <td>LSM-45663</td>\n",
       "      <td>Resminostat</td>\n",
       "      <td>CN(C)Cc1ccc(S(=O)(=O)n2ccc(/C=C/C(=O)NO)c2)cc1</td>\n",
       "      <td>1.0</td>\n",
       "      <td>24</td>\n",
       "      <td>False</td>\n",
       "    </tr>\n",
       "    <tr>\n",
       "      <th>3</th>\n",
       "      <td>00022f989630d14b</td>\n",
       "      <td>library_35</td>\n",
       "      <td>plate_2</td>\n",
       "      <td>E6</td>\n",
       "      <td>E</td>\n",
       "      <td>6</td>\n",
       "      <td>PBMC</td>\n",
       "      <td>donor_0</td>\n",
       "      <td>T cells CD4+</td>\n",
       "      <td>LSM-43216</td>\n",
       "      <td>FK 866</td>\n",
       "      <td>O=C(/C=C/c1cccnc1)NCCCCC1CCN(C(=O)c2ccccc2)CC1</td>\n",
       "      <td>1.0</td>\n",
       "      <td>24</td>\n",
       "      <td>False</td>\n",
       "    </tr>\n",
       "    <tr>\n",
       "      <th>4</th>\n",
       "      <td>0002560bd38ce03e</td>\n",
       "      <td>library_22</td>\n",
       "      <td>plate_4</td>\n",
       "      <td>B6</td>\n",
       "      <td>B</td>\n",
       "      <td>6</td>\n",
       "      <td>PBMC</td>\n",
       "      <td>donor_2</td>\n",
       "      <td>T cells CD4+</td>\n",
       "      <td>LSM-1099</td>\n",
       "      <td>Nilotinib</td>\n",
       "      <td>Cc1cn(-c2cc(NC(=O)c3ccc(C)c(Nc4nccc(-c5cccnc5)...</td>\n",
       "      <td>1.0</td>\n",
       "      <td>24</td>\n",
       "      <td>False</td>\n",
       "    </tr>\n",
       "  </tbody>\n",
       "</table>\n",
       "</div>"
      ],
      "text/plain": [
       "             obs_id  library_id plate_name well row  col cell_id donor_id  \\\n",
       "0  000006a87ba75b72   library_4    plate_4   F7   F    7    PBMC  donor_2   \n",
       "1  0000233976e3cd37   library_0    plate_3   D4   D    4    PBMC  donor_1   \n",
       "2  0001533c5e876362   library_2    plate_0  B11   B   11    PBMC  donor_0   \n",
       "3  00022f989630d14b  library_35    plate_2   E6   E    6    PBMC  donor_0   \n",
       "4  0002560bd38ce03e  library_22    plate_4   B6   B    6    PBMC  donor_2   \n",
       "\n",
       "            cell_type sm_lincs_id      sm_name  \\\n",
       "0        T cells CD4+    LSM-4944     MLN 2238   \n",
       "1        T cells CD4+   LSM-46203   BMS-265246   \n",
       "2  T regulatory cells   LSM-45663  Resminostat   \n",
       "3        T cells CD4+   LSM-43216       FK 866   \n",
       "4        T cells CD4+    LSM-1099    Nilotinib   \n",
       "\n",
       "                                              SMILES  dose_uM  timepoint_hr  \\\n",
       "0      CC(C)C[C@H](NC(=O)CNC(=O)c1cc(Cl)ccc1Cl)B(O)O      1.0            24   \n",
       "1        CCCCOc1c(C(=O)c2c(F)cc(C)cc2F)cnc2[nH]ncc12      1.0            24   \n",
       "2     CN(C)Cc1ccc(S(=O)(=O)n2ccc(/C=C/C(=O)NO)c2)cc1      1.0            24   \n",
       "3     O=C(/C=C/c1cccnc1)NCCCCC1CCN(C(=O)c2ccccc2)CC1      1.0            24   \n",
       "4  Cc1cn(-c2cc(NC(=O)c3ccc(C)c(Nc4nccc(-c5cccnc5)...      1.0            24   \n",
       "\n",
       "   control  \n",
       "0    False  \n",
       "1    False  \n",
       "2    False  \n",
       "3    False  \n",
       "4    False  "
      ]
     },
     "execution_count": 94,
     "metadata": {},
     "output_type": "execute_result"
    }
   ],
   "source": [
    "df_train_meta.head()"
   ]
  },
  {
   "cell_type": "code",
   "execution_count": 95,
   "metadata": {
    "colab": {
     "base_uri": "https://localhost:8080/"
    },
    "executionInfo": {
     "elapsed": 212,
     "status": "ok",
     "timestamp": 1700897973993,
     "user": {
      "displayName": "Moi Knigi",
      "userId": "01206410294984552369"
     },
     "user_tz": 480
    },
    "id": "SyLp_9xjamxZ",
    "outputId": "6d9d2130-3bd4-41ff-abd9-e9d7271d5407"
   },
   "outputs": [
    {
     "data": {
      "text/plain": [
       "array(['plate_4', 'plate_3', 'plate_0', 'plate_2', 'plate_1', 'plate_5'],\n",
       "      dtype=object)"
      ]
     },
     "execution_count": 95,
     "metadata": {},
     "output_type": "execute_result"
    }
   ],
   "source": [
    "df_train_meta.plate_name.unique()"
   ]
  },
  {
   "cell_type": "code",
   "execution_count": 96,
   "metadata": {
    "colab": {
     "base_uri": "https://localhost:8080/"
    },
    "executionInfo": {
     "elapsed": 4,
     "status": "ok",
     "timestamp": 1700820381626,
     "user": {
      "displayName": "Moi Knigi",
      "userId": "01206410294984552369"
     },
     "user_tz": 480
    },
    "id": "XLB0uKlKuSxj",
    "outputId": "edf4a8a2-6f52-4048-9a01-ce4eb8314893"
   },
   "outputs": [
    {
     "data": {
      "text/plain": [
       "(240090, 15)"
      ]
     },
     "execution_count": 96,
     "metadata": {},
     "output_type": "execute_result"
    }
   ],
   "source": [
    "df_train_meta.shape"
   ]
  },
  {
   "cell_type": "code",
   "execution_count": 97,
   "metadata": {
    "colab": {
     "base_uri": "https://localhost:8080/"
    },
    "executionInfo": {
     "elapsed": 3,
     "status": "ok",
     "timestamp": 1700820381626,
     "user": {
      "displayName": "Moi Knigi",
      "userId": "01206410294984552369"
     },
     "user_tz": 480
    },
    "id": "QFpwqQ4J0Rou",
    "outputId": "ebc1bbce-a1ca-4942-a638-0fb591439e33"
   },
   "outputs": [
    {
     "data": {
      "text/plain": [
       "array(['T cells CD4+', 'T regulatory cells', 'T cells CD8+', 'NK cells',\n",
       "       'B cells', 'Myeloid cells'], dtype=object)"
      ]
     },
     "execution_count": 97,
     "metadata": {},
     "output_type": "execute_result"
    }
   ],
   "source": [
    "df_train_meta.cell_type.unique()"
   ]
  },
  {
   "cell_type": "code",
   "execution_count": 98,
   "metadata": {
    "id": "qK28FdHtuSvX"
   },
   "outputs": [],
   "source": [
    "ad_train.obs[\"cell_type\"] = pd.Categorical(df_train_meta.cell_type)\n",
    "ad_train.obs[\"sm_name\"] = pd.Categorical(df_train_meta.sm_name)\n",
    "ad_train.obs[\"donor_id\"] = pd.Categorical(df_train_meta.donor_id)\n",
    "ad_train.obs[\"library_id\"] = pd.Categorical(df_train_meta.library_id)\n",
    "ad_train.obs[\"control\"] = pd.Categorical(df_train_meta.control)"
   ]
  },
  {
   "cell_type": "code",
   "execution_count": 99,
   "metadata": {
    "colab": {
     "base_uri": "https://localhost:8080/"
    },
    "executionInfo": {
     "elapsed": 3,
     "status": "ok",
     "timestamp": 1700820381946,
     "user": {
      "displayName": "Moi Knigi",
      "userId": "01206410294984552369"
     },
     "user_tz": 480
    },
    "id": "OpOM25cTuStH",
    "outputId": "72d7c249-df16-4c31-c3d4-fa0e85593409"
   },
   "outputs": [
    {
     "data": {
      "text/plain": [
       "AnnData object with n_obs × n_vars = 240090 × 21255\n",
       "    obs: 'cell_type', 'sm_name', 'donor_id', 'library_id', 'control'"
      ]
     },
     "execution_count": 99,
     "metadata": {},
     "output_type": "execute_result"
    }
   ],
   "source": [
    "ad_train"
   ]
  },
  {
   "cell_type": "code",
   "execution_count": 100,
   "metadata": {
    "colab": {
     "base_uri": "https://localhost:8080/"
    },
    "executionInfo": {
     "elapsed": 1063,
     "status": "ok",
     "timestamp": 1700820383007,
     "user": {
      "displayName": "Moi Knigi",
      "userId": "01206410294984552369"
     },
     "user_tz": 480
    },
    "id": "zznhYnX8zg9m",
    "outputId": "701e1d57-b36d-47fe-bd6c-4df39eeff9a1"
   },
   "outputs": [
    {
     "data": {
      "text/plain": [
       "18211"
      ]
     },
     "execution_count": 100,
     "metadata": {},
     "output_type": "execute_result"
    }
   ],
   "source": [
    "# Select genes present in bulk dataset\n",
    "de_train = pd.read_parquet(f\"{DATA}/de_train.parquet\")\n",
    "bulk_genes = de_train.columns[5:]\n",
    "len(bulk_genes)"
   ]
  },
  {
   "cell_type": "code",
   "execution_count": 101,
   "metadata": {},
   "outputs": [
    {
     "data": {
      "text/html": [
       "<div>\n",
       "<style scoped>\n",
       "    .dataframe tbody tr th:only-of-type {\n",
       "        vertical-align: middle;\n",
       "    }\n",
       "\n",
       "    .dataframe tbody tr th {\n",
       "        vertical-align: top;\n",
       "    }\n",
       "\n",
       "    .dataframe thead th {\n",
       "        text-align: right;\n",
       "    }\n",
       "</style>\n",
       "<table border=\"1\" class=\"dataframe\">\n",
       "  <thead>\n",
       "    <tr style=\"text-align: right;\">\n",
       "      <th></th>\n",
       "      <th>cell_type</th>\n",
       "      <th>sm_name</th>\n",
       "      <th>sm_lincs_id</th>\n",
       "      <th>SMILES</th>\n",
       "      <th>control</th>\n",
       "      <th>A1BG</th>\n",
       "      <th>A1BG-AS1</th>\n",
       "      <th>A2M</th>\n",
       "      <th>A2M-AS1</th>\n",
       "      <th>A2MP1</th>\n",
       "      <th>...</th>\n",
       "      <th>ZUP1</th>\n",
       "      <th>ZW10</th>\n",
       "      <th>ZWILCH</th>\n",
       "      <th>ZWINT</th>\n",
       "      <th>ZXDA</th>\n",
       "      <th>ZXDB</th>\n",
       "      <th>ZXDC</th>\n",
       "      <th>ZYG11B</th>\n",
       "      <th>ZYX</th>\n",
       "      <th>ZZEF1</th>\n",
       "    </tr>\n",
       "  </thead>\n",
       "  <tbody>\n",
       "    <tr>\n",
       "      <th>0</th>\n",
       "      <td>NK cells</td>\n",
       "      <td>Clotrimazole</td>\n",
       "      <td>LSM-5341</td>\n",
       "      <td>Clc1ccccc1C(c1ccccc1)(c1ccccc1)n1ccnc1</td>\n",
       "      <td>False</td>\n",
       "      <td>0.104720</td>\n",
       "      <td>-0.077524</td>\n",
       "      <td>-1.625596</td>\n",
       "      <td>-0.144545</td>\n",
       "      <td>0.143555</td>\n",
       "      <td>...</td>\n",
       "      <td>-0.227781</td>\n",
       "      <td>-0.010752</td>\n",
       "      <td>-0.023881</td>\n",
       "      <td>0.674536</td>\n",
       "      <td>-0.453068</td>\n",
       "      <td>0.005164</td>\n",
       "      <td>-0.094959</td>\n",
       "      <td>0.034127</td>\n",
       "      <td>0.221377</td>\n",
       "      <td>0.368755</td>\n",
       "    </tr>\n",
       "    <tr>\n",
       "      <th>1</th>\n",
       "      <td>T cells CD4+</td>\n",
       "      <td>Clotrimazole</td>\n",
       "      <td>LSM-5341</td>\n",
       "      <td>Clc1ccccc1C(c1ccccc1)(c1ccccc1)n1ccnc1</td>\n",
       "      <td>False</td>\n",
       "      <td>0.915953</td>\n",
       "      <td>-0.884380</td>\n",
       "      <td>0.371834</td>\n",
       "      <td>-0.081677</td>\n",
       "      <td>-0.498266</td>\n",
       "      <td>...</td>\n",
       "      <td>-0.494985</td>\n",
       "      <td>-0.303419</td>\n",
       "      <td>0.304955</td>\n",
       "      <td>-0.333905</td>\n",
       "      <td>-0.315516</td>\n",
       "      <td>-0.369626</td>\n",
       "      <td>-0.095079</td>\n",
       "      <td>0.704780</td>\n",
       "      <td>1.096702</td>\n",
       "      <td>-0.869887</td>\n",
       "    </tr>\n",
       "    <tr>\n",
       "      <th>2</th>\n",
       "      <td>T cells CD8+</td>\n",
       "      <td>Clotrimazole</td>\n",
       "      <td>LSM-5341</td>\n",
       "      <td>Clc1ccccc1C(c1ccccc1)(c1ccccc1)n1ccnc1</td>\n",
       "      <td>False</td>\n",
       "      <td>-0.387721</td>\n",
       "      <td>-0.305378</td>\n",
       "      <td>0.567777</td>\n",
       "      <td>0.303895</td>\n",
       "      <td>-0.022653</td>\n",
       "      <td>...</td>\n",
       "      <td>-0.119422</td>\n",
       "      <td>-0.033608</td>\n",
       "      <td>-0.153123</td>\n",
       "      <td>0.183597</td>\n",
       "      <td>-0.555678</td>\n",
       "      <td>-1.494789</td>\n",
       "      <td>-0.213550</td>\n",
       "      <td>0.415768</td>\n",
       "      <td>0.078439</td>\n",
       "      <td>-0.259365</td>\n",
       "    </tr>\n",
       "    <tr>\n",
       "      <th>3</th>\n",
       "      <td>T regulatory cells</td>\n",
       "      <td>Clotrimazole</td>\n",
       "      <td>LSM-5341</td>\n",
       "      <td>Clc1ccccc1C(c1ccccc1)(c1ccccc1)n1ccnc1</td>\n",
       "      <td>False</td>\n",
       "      <td>0.232893</td>\n",
       "      <td>0.129029</td>\n",
       "      <td>0.336897</td>\n",
       "      <td>0.486946</td>\n",
       "      <td>0.767661</td>\n",
       "      <td>...</td>\n",
       "      <td>0.451679</td>\n",
       "      <td>0.704643</td>\n",
       "      <td>0.015468</td>\n",
       "      <td>-0.103868</td>\n",
       "      <td>0.865027</td>\n",
       "      <td>0.189114</td>\n",
       "      <td>0.224700</td>\n",
       "      <td>-0.048233</td>\n",
       "      <td>0.216139</td>\n",
       "      <td>-0.085024</td>\n",
       "    </tr>\n",
       "    <tr>\n",
       "      <th>4</th>\n",
       "      <td>NK cells</td>\n",
       "      <td>Mometasone Furoate</td>\n",
       "      <td>LSM-3349</td>\n",
       "      <td>C[C@@H]1C[C@H]2[C@@H]3CCC4=CC(=O)C=C[C@]4(C)[C...</td>\n",
       "      <td>False</td>\n",
       "      <td>4.290652</td>\n",
       "      <td>-0.063864</td>\n",
       "      <td>-0.017443</td>\n",
       "      <td>-0.541154</td>\n",
       "      <td>0.570982</td>\n",
       "      <td>...</td>\n",
       "      <td>0.758474</td>\n",
       "      <td>0.510762</td>\n",
       "      <td>0.607401</td>\n",
       "      <td>-0.123059</td>\n",
       "      <td>0.214366</td>\n",
       "      <td>0.487838</td>\n",
       "      <td>-0.819775</td>\n",
       "      <td>0.112365</td>\n",
       "      <td>-0.122193</td>\n",
       "      <td>0.676629</td>\n",
       "    </tr>\n",
       "    <tr>\n",
       "      <th>...</th>\n",
       "      <td>...</td>\n",
       "      <td>...</td>\n",
       "      <td>...</td>\n",
       "      <td>...</td>\n",
       "      <td>...</td>\n",
       "      <td>...</td>\n",
       "      <td>...</td>\n",
       "      <td>...</td>\n",
       "      <td>...</td>\n",
       "      <td>...</td>\n",
       "      <td>...</td>\n",
       "      <td>...</td>\n",
       "      <td>...</td>\n",
       "      <td>...</td>\n",
       "      <td>...</td>\n",
       "      <td>...</td>\n",
       "      <td>...</td>\n",
       "      <td>...</td>\n",
       "      <td>...</td>\n",
       "      <td>...</td>\n",
       "      <td>...</td>\n",
       "    </tr>\n",
       "    <tr>\n",
       "      <th>609</th>\n",
       "      <td>T regulatory cells</td>\n",
       "      <td>Atorvastatin</td>\n",
       "      <td>LSM-5771</td>\n",
       "      <td>CC(C)c1c(C(=O)Nc2ccccc2)c(-c2ccccc2)c(-c2ccc(F...</td>\n",
       "      <td>False</td>\n",
       "      <td>-0.014372</td>\n",
       "      <td>-0.122464</td>\n",
       "      <td>-0.456366</td>\n",
       "      <td>-0.147894</td>\n",
       "      <td>-0.545382</td>\n",
       "      <td>...</td>\n",
       "      <td>-0.549987</td>\n",
       "      <td>-2.200925</td>\n",
       "      <td>0.359806</td>\n",
       "      <td>1.073983</td>\n",
       "      <td>0.356939</td>\n",
       "      <td>-0.029603</td>\n",
       "      <td>-0.528817</td>\n",
       "      <td>0.105138</td>\n",
       "      <td>0.491015</td>\n",
       "      <td>-0.979951</td>\n",
       "    </tr>\n",
       "    <tr>\n",
       "      <th>610</th>\n",
       "      <td>NK cells</td>\n",
       "      <td>Riociguat</td>\n",
       "      <td>LSM-45758</td>\n",
       "      <td>COC(=O)N(C)c1c(N)nc(-c2nn(Cc3ccccc3F)c3ncccc23...</td>\n",
       "      <td>False</td>\n",
       "      <td>-0.455549</td>\n",
       "      <td>0.188181</td>\n",
       "      <td>0.595734</td>\n",
       "      <td>-0.100299</td>\n",
       "      <td>0.786192</td>\n",
       "      <td>...</td>\n",
       "      <td>-1.236905</td>\n",
       "      <td>0.003854</td>\n",
       "      <td>-0.197569</td>\n",
       "      <td>-0.175307</td>\n",
       "      <td>0.101391</td>\n",
       "      <td>1.028394</td>\n",
       "      <td>0.034144</td>\n",
       "      <td>-0.231642</td>\n",
       "      <td>1.023994</td>\n",
       "      <td>-0.064760</td>\n",
       "    </tr>\n",
       "    <tr>\n",
       "      <th>611</th>\n",
       "      <td>T cells CD4+</td>\n",
       "      <td>Riociguat</td>\n",
       "      <td>LSM-45758</td>\n",
       "      <td>COC(=O)N(C)c1c(N)nc(-c2nn(Cc3ccccc3F)c3ncccc23...</td>\n",
       "      <td>False</td>\n",
       "      <td>0.338168</td>\n",
       "      <td>-0.109079</td>\n",
       "      <td>0.270182</td>\n",
       "      <td>-0.436586</td>\n",
       "      <td>-0.069476</td>\n",
       "      <td>...</td>\n",
       "      <td>0.077579</td>\n",
       "      <td>-1.101637</td>\n",
       "      <td>0.457201</td>\n",
       "      <td>0.535184</td>\n",
       "      <td>-0.198404</td>\n",
       "      <td>-0.005004</td>\n",
       "      <td>0.552810</td>\n",
       "      <td>-0.209077</td>\n",
       "      <td>0.389751</td>\n",
       "      <td>-0.337082</td>\n",
       "    </tr>\n",
       "    <tr>\n",
       "      <th>612</th>\n",
       "      <td>T cells CD8+</td>\n",
       "      <td>Riociguat</td>\n",
       "      <td>LSM-45758</td>\n",
       "      <td>COC(=O)N(C)c1c(N)nc(-c2nn(Cc3ccccc3F)c3ncccc23...</td>\n",
       "      <td>False</td>\n",
       "      <td>0.101138</td>\n",
       "      <td>-0.409724</td>\n",
       "      <td>-0.606292</td>\n",
       "      <td>-0.071300</td>\n",
       "      <td>-0.001789</td>\n",
       "      <td>...</td>\n",
       "      <td>0.005951</td>\n",
       "      <td>-0.893093</td>\n",
       "      <td>-1.003029</td>\n",
       "      <td>-0.080367</td>\n",
       "      <td>-0.076604</td>\n",
       "      <td>0.024849</td>\n",
       "      <td>0.012862</td>\n",
       "      <td>-0.029684</td>\n",
       "      <td>0.005506</td>\n",
       "      <td>-1.733112</td>\n",
       "    </tr>\n",
       "    <tr>\n",
       "      <th>613</th>\n",
       "      <td>T regulatory cells</td>\n",
       "      <td>Riociguat</td>\n",
       "      <td>LSM-45758</td>\n",
       "      <td>COC(=O)N(C)c1c(N)nc(-c2nn(Cc3ccccc3F)c3ncccc23...</td>\n",
       "      <td>False</td>\n",
       "      <td>-0.757116</td>\n",
       "      <td>0.085910</td>\n",
       "      <td>-0.730025</td>\n",
       "      <td>-1.367801</td>\n",
       "      <td>-0.695944</td>\n",
       "      <td>...</td>\n",
       "      <td>0.232343</td>\n",
       "      <td>-2.247816</td>\n",
       "      <td>-0.346036</td>\n",
       "      <td>-0.919567</td>\n",
       "      <td>-1.131372</td>\n",
       "      <td>-0.120252</td>\n",
       "      <td>-0.064537</td>\n",
       "      <td>-0.603280</td>\n",
       "      <td>-0.098041</td>\n",
       "      <td>-0.750681</td>\n",
       "    </tr>\n",
       "  </tbody>\n",
       "</table>\n",
       "<p>614 rows × 18216 columns</p>\n",
       "</div>"
      ],
      "text/plain": [
       "              cell_type             sm_name sm_lincs_id  \\\n",
       "0              NK cells        Clotrimazole    LSM-5341   \n",
       "1          T cells CD4+        Clotrimazole    LSM-5341   \n",
       "2          T cells CD8+        Clotrimazole    LSM-5341   \n",
       "3    T regulatory cells        Clotrimazole    LSM-5341   \n",
       "4              NK cells  Mometasone Furoate    LSM-3349   \n",
       "..                  ...                 ...         ...   \n",
       "609  T regulatory cells        Atorvastatin    LSM-5771   \n",
       "610            NK cells           Riociguat   LSM-45758   \n",
       "611        T cells CD4+           Riociguat   LSM-45758   \n",
       "612        T cells CD8+           Riociguat   LSM-45758   \n",
       "613  T regulatory cells           Riociguat   LSM-45758   \n",
       "\n",
       "                                                SMILES  control      A1BG  \\\n",
       "0               Clc1ccccc1C(c1ccccc1)(c1ccccc1)n1ccnc1    False  0.104720   \n",
       "1               Clc1ccccc1C(c1ccccc1)(c1ccccc1)n1ccnc1    False  0.915953   \n",
       "2               Clc1ccccc1C(c1ccccc1)(c1ccccc1)n1ccnc1    False -0.387721   \n",
       "3               Clc1ccccc1C(c1ccccc1)(c1ccccc1)n1ccnc1    False  0.232893   \n",
       "4    C[C@@H]1C[C@H]2[C@@H]3CCC4=CC(=O)C=C[C@]4(C)[C...    False  4.290652   \n",
       "..                                                 ...      ...       ...   \n",
       "609  CC(C)c1c(C(=O)Nc2ccccc2)c(-c2ccccc2)c(-c2ccc(F...    False -0.014372   \n",
       "610  COC(=O)N(C)c1c(N)nc(-c2nn(Cc3ccccc3F)c3ncccc23...    False -0.455549   \n",
       "611  COC(=O)N(C)c1c(N)nc(-c2nn(Cc3ccccc3F)c3ncccc23...    False  0.338168   \n",
       "612  COC(=O)N(C)c1c(N)nc(-c2nn(Cc3ccccc3F)c3ncccc23...    False  0.101138   \n",
       "613  COC(=O)N(C)c1c(N)nc(-c2nn(Cc3ccccc3F)c3ncccc23...    False -0.757116   \n",
       "\n",
       "     A1BG-AS1       A2M   A2M-AS1     A2MP1  ...      ZUP1      ZW10  \\\n",
       "0   -0.077524 -1.625596 -0.144545  0.143555  ... -0.227781 -0.010752   \n",
       "1   -0.884380  0.371834 -0.081677 -0.498266  ... -0.494985 -0.303419   \n",
       "2   -0.305378  0.567777  0.303895 -0.022653  ... -0.119422 -0.033608   \n",
       "3    0.129029  0.336897  0.486946  0.767661  ...  0.451679  0.704643   \n",
       "4   -0.063864 -0.017443 -0.541154  0.570982  ...  0.758474  0.510762   \n",
       "..        ...       ...       ...       ...  ...       ...       ...   \n",
       "609 -0.122464 -0.456366 -0.147894 -0.545382  ... -0.549987 -2.200925   \n",
       "610  0.188181  0.595734 -0.100299  0.786192  ... -1.236905  0.003854   \n",
       "611 -0.109079  0.270182 -0.436586 -0.069476  ...  0.077579 -1.101637   \n",
       "612 -0.409724 -0.606292 -0.071300 -0.001789  ...  0.005951 -0.893093   \n",
       "613  0.085910 -0.730025 -1.367801 -0.695944  ...  0.232343 -2.247816   \n",
       "\n",
       "       ZWILCH     ZWINT      ZXDA      ZXDB      ZXDC    ZYG11B       ZYX  \\\n",
       "0   -0.023881  0.674536 -0.453068  0.005164 -0.094959  0.034127  0.221377   \n",
       "1    0.304955 -0.333905 -0.315516 -0.369626 -0.095079  0.704780  1.096702   \n",
       "2   -0.153123  0.183597 -0.555678 -1.494789 -0.213550  0.415768  0.078439   \n",
       "3    0.015468 -0.103868  0.865027  0.189114  0.224700 -0.048233  0.216139   \n",
       "4    0.607401 -0.123059  0.214366  0.487838 -0.819775  0.112365 -0.122193   \n",
       "..        ...       ...       ...       ...       ...       ...       ...   \n",
       "609  0.359806  1.073983  0.356939 -0.029603 -0.528817  0.105138  0.491015   \n",
       "610 -0.197569 -0.175307  0.101391  1.028394  0.034144 -0.231642  1.023994   \n",
       "611  0.457201  0.535184 -0.198404 -0.005004  0.552810 -0.209077  0.389751   \n",
       "612 -1.003029 -0.080367 -0.076604  0.024849  0.012862 -0.029684  0.005506   \n",
       "613 -0.346036 -0.919567 -1.131372 -0.120252 -0.064537 -0.603280 -0.098041   \n",
       "\n",
       "        ZZEF1  \n",
       "0    0.368755  \n",
       "1   -0.869887  \n",
       "2   -0.259365  \n",
       "3   -0.085024  \n",
       "4    0.676629  \n",
       "..        ...  \n",
       "609 -0.979951  \n",
       "610 -0.064760  \n",
       "611 -0.337082  \n",
       "612 -1.733112  \n",
       "613 -0.750681  \n",
       "\n",
       "[614 rows x 18216 columns]"
      ]
     },
     "execution_count": 101,
     "metadata": {},
     "output_type": "execute_result"
    }
   ],
   "source": [
    "de_train"
   ]
  },
  {
   "cell_type": "code",
   "execution_count": 78,
   "metadata": {
    "id": "Cm5KkRmIvrLU"
   },
   "outputs": [],
   "source": [
    "#de_train.loc[de_train.control==True]"
   ]
  },
  {
   "cell_type": "code",
   "execution_count": 104,
   "metadata": {
    "id": "p2mxHhJmzg0R"
   },
   "outputs": [],
   "source": [
    "# Leave only bulk genes\n",
    "ad_train = ad_train[:,bulk_genes]"
   ]
  },
  {
   "cell_type": "code",
   "execution_count": 105,
   "metadata": {
    "id": "mbxZucjAKgEe"
   },
   "outputs": [],
   "source": [
    "pos_ctr = [\"Dabrafenib\", \"Belinostat\"]\n",
    "neg_ctr = [\"Dimethyl Sulfoxide\"]"
   ]
  },
  {
   "cell_type": "code",
   "execution_count": 106,
   "metadata": {
    "id": "b4P1a2zGxf4h"
   },
   "outputs": [],
   "source": [
    "# Drop positive control samples\n",
    "ad_train = ad_train[~ad_train.obs.sm_name.isin(pos_ctr),:]"
   ]
  },
  {
   "cell_type": "code",
   "execution_count": 107,
   "metadata": {
    "id": "3Qv8KrWGLThM"
   },
   "outputs": [],
   "source": [
    "# All data for bulk genes, no positive controls\n",
    "ad_train.write(f\"{DATA}/ad_train.h5ad\", compression=\"gzip\")"
   ]
  },
  {
   "cell_type": "code",
   "execution_count": 108,
   "metadata": {},
   "outputs": [],
   "source": [
    "test_specs = [\n",
    "\t('T cells CD8+', ['Buspirone', 'Mometasone Furoate', 'Vandetanib', 'Saracatinib', 'Amiodarone']),\n",
    "\t('B cells', ['Crizotinib', 'Palbociclib', 'Linagliptin', 'Ixabepilone', 'LDN 193189']),\n",
    "\t('Myeloid cells', ['Idelalisib', 'R428', 'CHIR-99021', 'Foretinib', 'Penfluridol'])\n",
    "]\n"
   ]
  },
  {
   "cell_type": "code",
   "execution_count": 110,
   "metadata": {},
   "outputs": [],
   "source": [
    "test_cell_types = [a for a, _ in test_specs]\n",
    "\n",
    "ad_test_list = []\n",
    "ad_train_list = [ad_train[~ad_train.obs.cell_type.isin(test_cell_types)]]\n",
    "\n",
    "ad_test_cell_types_pool = ad_train[ad_train.obs.cell_type.isin(test_cell_types)]\n",
    "\n",
    "for cell_type, sm_names in test_specs:\n",
    "    ad_single_cell_type = ad_test_cell_types_pool[ad_test_cell_types_pool.obs.cell_type == cell_type]\n",
    "    ad_test_list.append(ad_single_cell_type[ad_single_cell_type.obs.sm_name.isin(sm_names)])\n",
    "    ad_train_list.append(ad_single_cell_type[~ad_single_cell_type.obs.sm_name.isin(sm_names)])\n",
    "\n",
    "ad_test = ad.concat(ad_test_list)\n",
    "ad_train = ad.concat(ad_train_list)\n",
    "    "
   ]
  },
  {
   "cell_type": "code",
   "execution_count": 113,
   "metadata": {},
   "outputs": [],
   "source": [
    "ad_train.write(f\"{DATA}/ad_train_split.h5ad\", compression=\"gzip\")"
   ]
  },
  {
   "cell_type": "code",
   "execution_count": 114,
   "metadata": {},
   "outputs": [],
   "source": [
    "ad_test.write(f\"{DATA}/ad_test_split.h5ad\", compression=\"gzip\")"
   ]
  },
  {
   "cell_type": "code",
   "execution_count": 116,
   "metadata": {},
   "outputs": [
    {
     "data": {
      "text/plain": [
       "['Amiodarone',\n",
       " 'Buspirone',\n",
       " 'CHIR-99021',\n",
       " 'Crizotinib',\n",
       " 'Foretinib',\n",
       " 'Idelalisib',\n",
       " 'LDN 193189',\n",
       " 'Linagliptin',\n",
       " 'Mometasone Furoate',\n",
       " 'Palbociclib',\n",
       " 'Penfluridol',\n",
       " 'R428',\n",
       " 'Saracatinib',\n",
       " 'Vandetanib']"
      ]
     },
     "execution_count": 116,
     "metadata": {},
     "output_type": "execute_result"
    }
   ],
   "source": [
    "sorted(ad_test.obs.sm_name.unique())"
   ]
  },
  {
   "cell_type": "markdown",
   "metadata": {
    "id": "0Fjvy4McwuWa"
   },
   "source": [
    "# Split by donors"
   ]
  },
  {
   "cell_type": "code",
   "execution_count": 117,
   "metadata": {
    "colab": {
     "base_uri": "https://localhost:8080/"
    },
    "executionInfo": {
     "elapsed": 4,
     "status": "ok",
     "timestamp": 1700820383392,
     "user": {
      "displayName": "Moi Knigi",
      "userId": "01206410294984552369"
     },
     "user_tz": 480
    },
    "id": "vYT3F0Mvwysy",
    "outputId": "d462d897-67eb-4d77-adf2-77fa352f2449"
   },
   "outputs": [
    {
     "data": {
      "text/plain": [
       "['donor_2', 'donor_1', 'donor_0']\n",
       "Categories (3, object): ['donor_0', 'donor_1', 'donor_2']"
      ]
     },
     "execution_count": 117,
     "metadata": {},
     "output_type": "execute_result"
    }
   ],
   "source": [
    "ad_train.obs.donor_id.unique()"
   ]
  },
  {
   "cell_type": "code",
   "execution_count": null,
   "metadata": {},
   "outputs": [],
   "source": []
  },
  {
   "cell_type": "code",
   "execution_count": null,
   "metadata": {
    "id": "PhvSrMPjwyqb"
   },
   "outputs": [],
   "source": [
    "ad_train_donor0 = ad_train[ad_train.obs.donor_id==\"donor_0\"]\n",
    "ad_train_donor0.write(f\"{DATA}/ad_train.counts.donor0.h5ad\", compression=\"gzip\")"
   ]
  },
  {
   "cell_type": "code",
   "execution_count": null,
   "metadata": {
    "id": "sx9iyQCxwyoE"
   },
   "outputs": [],
   "source": [
    "ad_train_donor1 = ad_train[ad_train.obs.donor_id==\"donor_1\"]\n",
    "ad_train_donor1.write(f\"{DATA}/ad_train.counts.donor1.h5ad\", compression=\"gzip\")"
   ]
  },
  {
   "cell_type": "code",
   "execution_count": null,
   "metadata": {
    "id": "XpTO778uwylu"
   },
   "outputs": [],
   "source": [
    "ad_train_donor2 = ad_train[ad_train.obs.donor_id==\"donor_2\"]\n",
    "ad_train_donor2.write(f\"{DATA}/ad_train.counts.donor2.h5ad\", compression=\"gzip\")"
   ]
  },
  {
   "cell_type": "markdown",
   "metadata": {
    "id": "SUujlBjQtF-b"
   },
   "source": [
    "# Ignore the code below"
   ]
  },
  {
   "cell_type": "code",
   "execution_count": null,
   "metadata": {
    "id": "Y_8xvIaUwyja"
   },
   "outputs": [],
   "source": []
  },
  {
   "cell_type": "code",
   "execution_count": null,
   "metadata": {
    "id": "CEgn6vJOuSqw"
   },
   "outputs": [],
   "source": [
    "# # Selecting cells and perturbations\n",
    "# select_cells = [\"T cells CD4+\"]\n",
    "# # select_sm = ['BMS-265246', 'CEP-18770 (Delanzomib)', 'Dimethyl Sulfoxide']\n",
    "# # select_sm = ['BMS-265246', 'CEP-18770 (Delanzomib)', 'Dimethyl Sulfoxide', \"Canertinib\", \"HMN-214\", \"LDN 193189\", \"LY2090314\"]\n",
    "# select_sm = ['BMS-265246', 'CEP-18770 (Delanzomib)', \"Canertinib\", \"HMN-214\", \"LDN 193189\", \"LY2090314\"]\n",
    "\n",
    "# ad_train_sel = ad_train[ad_train.obs.cell_type.isin(select_cells) &\n",
    "#                         ad_train.obs.sm_name.isin(select_sm)]"
   ]
  },
  {
   "cell_type": "code",
   "execution_count": null,
   "metadata": {
    "id": "OGe3hQu4shCX"
   },
   "outputs": [],
   "source": [
    "# select_sm = ['BMS-265246', 'CEP-18770 (Delanzomib)', 'Dimethyl Sulfoxide']\n",
    "select_sm = ['BMS-265246', 'CEP-18770 (Delanzomib)', 'Dimethyl Sulfoxide', \"Canertinib\", \"HMN-214\", \"LDN 193189\", \"LY2090314\"]\n",
    "\n",
    "ad_train_sel = ad_train[ad_train.obs.sm_name.isin(select_sm)]"
   ]
  },
  {
   "cell_type": "code",
   "execution_count": null,
   "metadata": {
    "id": "ThL4rpIFvrBz"
   },
   "outputs": [],
   "source": [
    "ad_train_sel.write(f\"{DATA}/ad_train.sel2.h5ad\", compression=\"gzip\")"
   ]
  },
  {
   "cell_type": "code",
   "execution_count": null,
   "metadata": {
    "colab": {
     "base_uri": "https://localhost:8080/"
    },
    "executionInfo": {
     "elapsed": 6,
     "status": "ok",
     "timestamp": 1700432930474,
     "user": {
      "displayName": "Moi Knigi",
      "userId": "01206410294984552369"
     },
     "user_tz": 480
    },
    "id": "BWt4s6BMs1OT",
    "outputId": "d866407c-8a31-48f5-d50e-28346f6c4a23"
   },
   "outputs": [
    {
     "data": {
      "text/plain": [
       "View of AnnData object with n_obs × n_vars = 37380 × 18211\n",
       "    obs: 'cell_type', 'sm_name', 'donor_id', 'library_id', 'control'"
      ]
     },
     "execution_count": 46,
     "metadata": {},
     "output_type": "execute_result"
    }
   ],
   "source": [
    "ad_train_sel"
   ]
  },
  {
   "cell_type": "code",
   "execution_count": null,
   "metadata": {
    "id": "PB5yByE9vq_o"
   },
   "outputs": [],
   "source": [
    "# ad_train_sel.X = ad_train_sel.X.astype(float)"
   ]
  },
  {
   "cell_type": "markdown",
   "metadata": {
    "id": "KHxANZ3wX4HY"
   },
   "source": [
    "# Exploration"
   ]
  },
  {
   "cell_type": "code",
   "execution_count": null,
   "metadata": {
    "colab": {
     "base_uri": "https://localhost:8080/",
     "height": 447
    },
    "executionInfo": {
     "elapsed": 617,
     "status": "ok",
     "timestamp": 1700427675256,
     "user": {
      "displayName": "Moi Knigi",
      "userId": "01206410294984552369"
     },
     "user_tz": 480
    },
    "id": "5rDBznsyX38I",
    "outputId": "f7bff4cf-47a2-490c-9e67-ae1627bc5736"
   },
   "outputs": [
    {
     "data": {
      "text/plain": [
       "<Axes: ylabel='Frequency'>"
      ]
     },
     "execution_count": 28,
     "metadata": {},
     "output_type": "execute_result"
    },
    {
     "data": {
      "image/png": "[encoded data removed]",
      "text/plain": [
       "<Figure size 640x480 with 1 Axes>"
      ]
     },
     "metadata": {},
     "output_type": "display_data"
    }
   ],
   "source": [
    "df_train.head(1000000)[\"normalized_count\"].plot.hist(bins=100)"
   ]
  },
  {
   "cell_type": "code",
   "execution_count": null,
   "metadata": {
    "id": "-0uDGpqKX3vG"
   },
   "outputs": [],
   "source": [
    "cell_types = ad_train.obs.cell_type.unique()\n",
    "perturbations = ad_train.obs.sm_name.unique()"
   ]
  },
  {
   "cell_type": "code",
   "execution_count": null,
   "metadata": {
    "colab": {
     "base_uri": "https://localhost:8080/"
    },
    "executionInfo": {
     "elapsed": 138,
     "status": "ok",
     "timestamp": 1700452412191,
     "user": {
      "displayName": "Moi Knigi",
      "userId": "01206410294984552369"
     },
     "user_tz": 480
    },
    "id": "AGhnD2vP2TRi",
    "outputId": "d3bb76ca-cd65-41c6-8a2c-8b8ede930ba2"
   },
   "outputs": [
    {
     "data": {
      "text/plain": [
       "(54, 18211)"
      ]
     },
     "execution_count": 51,
     "metadata": {},
     "output_type": "execute_result"
    }
   ],
   "source": [
    "ad_train[(ad_train.obs.cell_type==cell_types[1]) & (ad_train.obs.sm_name==perturbations[1]), :].shape"
   ]
  },
  {
   "cell_type": "code",
   "execution_count": null,
   "metadata": {
    "id": "i_hAOirV2TPj"
   },
   "outputs": [],
   "source": [
    "data = np.nan * np.empty((len(perturbations), len(cell_types)))\n",
    "df_stats = pd.DataFrame(data, index=perturbations, columns=cell_types)"
   ]
  },
  {
   "cell_type": "code",
   "execution_count": null,
   "metadata": {
    "id": "emcJxCOw2TNP"
   },
   "outputs": [],
   "source": [
    "# fill out table with numbers of samples per condition and cell type\n",
    "for idx in perturbations:\n",
    "  for col in cell_types:\n",
    "    df_stats.loc[idx, col] = ad_train[(ad_train.obs.cell_type==col) & (ad_train.obs.sm_name==idx), :].shape[0]"
   ]
  },
  {
   "cell_type": "code",
   "execution_count": null,
   "metadata": {
    "colab": {
     "base_uri": "https://localhost:8080/",
     "height": 424
    },
    "executionInfo": {
     "elapsed": 150,
     "status": "ok",
     "timestamp": 1700453694770,
     "user": {
      "displayName": "Moi Knigi",
      "userId": "01206410294984552369"
     },
     "user_tz": 480
    },
    "id": "UeB6I3By2TKv",
    "outputId": "63526f5d-3992-45c3-8d76-89be93c6f9fe"
   },
   "outputs": [
    {
     "data": {
      "text/html": [
       "\n",
       "  <div id=\"df-05ae123c-951c-46f5-aea3-2eb56544c18e\" class=\"colab-df-container\">\n",
       "    <div>\n",
       "<style scoped>\n",
       "    .dataframe tbody tr th:only-of-type {\n",
       "        vertical-align: middle;\n",
       "    }\n",
       "\n",
       "    .dataframe tbody tr th {\n",
       "        vertical-align: top;\n",
       "    }\n",
       "\n",
       "    .dataframe thead th {\n",
       "        text-align: right;\n",
       "    }\n",
       "</style>\n",
       "<table border=\"1\" class=\"dataframe\">\n",
       "  <thead>\n",
       "    <tr style=\"text-align: right;\">\n",
       "      <th></th>\n",
       "      <th>T cells CD4+</th>\n",
       "      <th>T regulatory cells</th>\n",
       "      <th>NK cells</th>\n",
       "      <th>T cells CD8+</th>\n",
       "      <th>B cells</th>\n",
       "      <th>Myeloid cells</th>\n",
       "    </tr>\n",
       "  </thead>\n",
       "  <tbody>\n",
       "    <tr>\n",
       "      <th>MLN 2238</th>\n",
       "      <td>697.0</td>\n",
       "      <td>1.0</td>\n",
       "      <td>4.0</td>\n",
       "      <td>392.0</td>\n",
       "      <td>2.0</td>\n",
       "      <td>5.0</td>\n",
       "    </tr>\n",
       "    <tr>\n",
       "      <th>BMS-265246</th>\n",
       "      <td>895.0</td>\n",
       "      <td>54.0</td>\n",
       "      <td>430.0</td>\n",
       "      <td>77.0</td>\n",
       "      <td>0.0</td>\n",
       "      <td>0.0</td>\n",
       "    </tr>\n",
       "    <tr>\n",
       "      <th>Resminostat</th>\n",
       "      <td>933.0</td>\n",
       "      <td>12.0</td>\n",
       "      <td>320.0</td>\n",
       "      <td>0.0</td>\n",
       "      <td>0.0</td>\n",
       "      <td>0.0</td>\n",
       "    </tr>\n",
       "    <tr>\n",
       "      <th>FK 866</th>\n",
       "      <td>532.0</td>\n",
       "      <td>46.0</td>\n",
       "      <td>260.0</td>\n",
       "      <td>62.0</td>\n",
       "      <td>0.0</td>\n",
       "      <td>0.0</td>\n",
       "    </tr>\n",
       "    <tr>\n",
       "      <th>Nilotinib</th>\n",
       "      <td>529.0</td>\n",
       "      <td>28.0</td>\n",
       "      <td>287.0</td>\n",
       "      <td>84.0</td>\n",
       "      <td>0.0</td>\n",
       "      <td>0.0</td>\n",
       "    </tr>\n",
       "    <tr>\n",
       "      <th>...</th>\n",
       "      <td>...</td>\n",
       "      <td>...</td>\n",
       "      <td>...</td>\n",
       "      <td>...</td>\n",
       "      <td>...</td>\n",
       "      <td>...</td>\n",
       "    </tr>\n",
       "    <tr>\n",
       "      <th>Crizotinib</th>\n",
       "      <td>506.0</td>\n",
       "      <td>37.0</td>\n",
       "      <td>305.0</td>\n",
       "      <td>87.0</td>\n",
       "      <td>215.0</td>\n",
       "      <td>117.0</td>\n",
       "    </tr>\n",
       "    <tr>\n",
       "      <th>BMS-387032</th>\n",
       "      <td>143.0</td>\n",
       "      <td>68.0</td>\n",
       "      <td>195.0</td>\n",
       "      <td>10.0</td>\n",
       "      <td>0.0</td>\n",
       "      <td>0.0</td>\n",
       "    </tr>\n",
       "    <tr>\n",
       "      <th>UNII-BXU45ZH6LI</th>\n",
       "      <td>257.0</td>\n",
       "      <td>16.0</td>\n",
       "      <td>28.0</td>\n",
       "      <td>6.0</td>\n",
       "      <td>0.0</td>\n",
       "      <td>0.0</td>\n",
       "    </tr>\n",
       "    <tr>\n",
       "      <th>Alvocidib</th>\n",
       "      <td>8.0</td>\n",
       "      <td>33.0</td>\n",
       "      <td>6.0</td>\n",
       "      <td>0.0</td>\n",
       "      <td>3.0</td>\n",
       "      <td>1.0</td>\n",
       "    </tr>\n",
       "    <tr>\n",
       "      <th>CGP 60474</th>\n",
       "      <td>15.0</td>\n",
       "      <td>68.0</td>\n",
       "      <td>6.0</td>\n",
       "      <td>0.0</td>\n",
       "      <td>0.0</td>\n",
       "      <td>0.0</td>\n",
       "    </tr>\n",
       "  </tbody>\n",
       "</table>\n",
       "<p>145 rows × 6 columns</p>\n",
       "</div>\n",
       "    <div class=\"colab-df-buttons\">\n",
       "\n",
       "  <div class=\"colab-df-container\">\n",
       "    <button class=\"colab-df-convert\" onclick=\"convertToInteractive('df-05ae123c-951c-46f5-aea3-2eb56544c18e')\"\n",
       "            title=\"Convert this dataframe to an interactive table.\"\n",
       "            style=\"display:none;\">\n",
       "\n",
       "  <svg xmlns=\"http://www.w3.org/2000/svg\" height=\"24px\" viewBox=\"0 -960 960 960\">\n",
       "    <path d=\"M120-120v-720h720v720H120Zm60-500h600v-160H180v160Zm220 220h160v-160H400v160Zm0 220h160v-160H400v160ZM180-400h160v-160H180v160Zm440 0h160v-160H620v160ZM180-180h160v-160H180v160Zm440 0h160v-160H620v160Z\"/>\n",
       "  </svg>\n",
       "    </button>\n",
       "\n",
       "  <style>\n",
       "    .colab-df-container {\n",
       "      display:flex;\n",
       "      gap: 12px;\n",
       "    }\n",
       "\n",
       "    .colab-df-convert {\n",
       "      background-color: #E8F0FE;\n",
       "      border: none;\n",
       "      border-radius: 50%;\n",
       "      cursor: pointer;\n",
       "      display: none;\n",
       "      fill: #1967D2;\n",
       "      height: 32px;\n",
       "      padding: 0 0 0 0;\n",
       "      width: 32px;\n",
       "    }\n",
       "\n",
       "    .colab-df-convert:hover {\n",
       "      background-color: #E2EBFA;\n",
       "      box-shadow: 0px 1px 2px rgba(60, 64, 67, 0.3), 0px 1px 3px 1px rgba(60, 64, 67, 0.15);\n",
       "      fill: #174EA6;\n",
       "    }\n",
       "\n",
       "    .colab-df-buttons div {\n",
       "      margin-bottom: 4px;\n",
       "    }\n",
       "\n",
       "    [theme=dark] .colab-df-convert {\n",
       "      background-color: #3B4455;\n",
       "      fill: #D2E3FC;\n",
       "    }\n",
       "\n",
       "    [theme=dark] .colab-df-convert:hover {\n",
       "      background-color: #434B5C;\n",
       "      box-shadow: 0px 1px 3px 1px rgba(0, 0, 0, 0.15);\n",
       "      filter: drop-shadow(0px 1px 2px rgba(0, 0, 0, 0.3));\n",
       "      fill: #FFFFFF;\n",
       "    }\n",
       "  </style>\n",
       "\n",
       "    <script>\n",
       "      const buttonEl =\n",
       "        document.querySelector('#df-05ae123c-951c-46f5-aea3-2eb56544c18e button.colab-df-convert');\n",
       "      buttonEl.style.display =\n",
       "        google.colab.kernel.accessAllowed ? 'block' : 'none';\n",
       "\n",
       "      async function convertToInteractive(key) {\n",
       "        const element = document.querySelector('#df-05ae123c-951c-46f5-aea3-2eb56544c18e');\n",
       "        const dataTable =\n",
       "          await google.colab.kernel.invokeFunction('convertToInteractive',\n",
       "                                                    [key], {});\n",
       "        if (!dataTable) return;\n",
       "\n",
       "        const docLinkHtml = 'Like what you see? Visit the ' +\n",
       "          '<a target=\"_blank\" href=https://colab.research.google.com/notebooks/data_table.ipynb>data table notebook</a>'\n",
       "          + ' to learn more about interactive tables.';\n",
       "        element.innerHTML = '';\n",
       "        dataTable['output_type'] = 'display_data';\n",
       "        await google.colab.output.renderOutput(dataTable, element);\n",
       "        const docLink = document.createElement('div');\n",
       "        docLink.innerHTML = docLinkHtml;\n",
       "        element.appendChild(docLink);\n",
       "      }\n",
       "    </script>\n",
       "  </div>\n",
       "\n",
       "\n",
       "<div id=\"df-b3fcb749-b19d-4f9d-bffd-57c280fe08a7\">\n",
       "  <button class=\"colab-df-quickchart\" onclick=\"quickchart('df-b3fcb749-b19d-4f9d-bffd-57c280fe08a7')\"\n",
       "            title=\"Suggest charts\"\n",
       "            style=\"display:none;\">\n",
       "\n",
       "<svg xmlns=\"http://www.w3.org/2000/svg\" height=\"24px\"viewBox=\"0 0 24 24\"\n",
       "     width=\"24px\">\n",
       "    <g>\n",
       "        <path d=\"M19 3H5c-1.1 0-2 .9-2 2v14c0 1.1.9 2 2 2h14c1.1 0 2-.9 2-2V5c0-1.1-.9-2-2-2zM9 17H7v-7h2v7zm4 0h-2V7h2v10zm4 0h-2v-4h2v4z\"/>\n",
       "    </g>\n",
       "</svg>\n",
       "  </button>\n",
       "\n",
       "<style>\n",
       "  .colab-df-quickchart {\n",
       "      --bg-color: #E8F0FE;\n",
       "      --fill-color: #1967D2;\n",
       "      --hover-bg-color: #E2EBFA;\n",
       "      --hover-fill-color: #174EA6;\n",
       "      --disabled-fill-color: #AAA;\n",
       "      --disabled-bg-color: #DDD;\n",
       "  }\n",
       "\n",
       "  [theme=dark] .colab-df-quickchart {\n",
       "      --bg-color: #3B4455;\n",
       "      --fill-color: #D2E3FC;\n",
       "      --hover-bg-color: #434B5C;\n",
       "      --hover-fill-color: #FFFFFF;\n",
       "      --disabled-bg-color: #3B4455;\n",
       "      --disabled-fill-color: #666;\n",
       "  }\n",
       "\n",
       "  .colab-df-quickchart {\n",
       "    background-color: var(--bg-color);\n",
       "    border: none;\n",
       "    border-radius: 50%;\n",
       "    cursor: pointer;\n",
       "    display: none;\n",
       "    fill: var(--fill-color);\n",
       "    height: 32px;\n",
       "    padding: 0;\n",
       "    width: 32px;\n",
       "  }\n",
       "\n",
       "  .colab-df-quickchart:hover {\n",
       "    background-color: var(--hover-bg-color);\n",
       "    box-shadow: 0 1px 2px rgba(60, 64, 67, 0.3), 0 1px 3px 1px rgba(60, 64, 67, 0.15);\n",
       "    fill: var(--button-hover-fill-color);\n",
       "  }\n",
       "\n",
       "  .colab-df-quickchart-complete:disabled,\n",
       "  .colab-df-quickchart-complete:disabled:hover {\n",
       "    background-color: var(--disabled-bg-color);\n",
       "    fill: var(--disabled-fill-color);\n",
       "    box-shadow: none;\n",
       "  }\n",
       "\n",
       "  .colab-df-spinner {\n",
       "    border: 2px solid var(--fill-color);\n",
       "    border-color: transparent;\n",
       "    border-bottom-color: var(--fill-color);\n",
       "    animation:\n",
       "      spin 1s steps(1) infinite;\n",
       "  }\n",
       "\n",
       "  @keyframes spin {\n",
       "    0% {\n",
       "      border-color: transparent;\n",
       "      border-bottom-color: var(--fill-color);\n",
       "      border-left-color: var(--fill-color);\n",
       "    }\n",
       "    20% {\n",
       "      border-color: transparent;\n",
       "      border-left-color: var(--fill-color);\n",
       "      border-top-color: var(--fill-color);\n",
       "    }\n",
       "    30% {\n",
       "      border-color: transparent;\n",
       "      border-left-color: var(--fill-color);\n",
       "      border-top-color: var(--fill-color);\n",
       "      border-right-color: var(--fill-color);\n",
       "    }\n",
       "    40% {\n",
       "      border-color: transparent;\n",
       "      border-right-color: var(--fill-color);\n",
       "      border-top-color: var(--fill-color);\n",
       "    }\n",
       "    60% {\n",
       "      border-color: transparent;\n",
       "      border-right-color: var(--fill-color);\n",
       "    }\n",
       "    80% {\n",
       "      border-color: transparent;\n",
       "      border-right-color: var(--fill-color);\n",
       "      border-bottom-color: var(--fill-color);\n",
       "    }\n",
       "    90% {\n",
       "      border-color: transparent;\n",
       "      border-bottom-color: var(--fill-color);\n",
       "    }\n",
       "  }\n",
       "</style>\n",
       "\n",
       "  <script>\n",
       "    async function quickchart(key) {\n",
       "      const quickchartButtonEl =\n",
       "        document.querySelector('#' + key + ' button');\n",
       "      quickchartButtonEl.disabled = true;  // To prevent multiple clicks.\n",
       "      quickchartButtonEl.classList.add('colab-df-spinner');\n",
       "      try {\n",
       "        const charts = await google.colab.kernel.invokeFunction(\n",
       "            'suggestCharts', [key], {});\n",
       "      } catch (error) {\n",
       "        console.error('Error during call to suggestCharts:', error);\n",
       "      }\n",
       "      quickchartButtonEl.classList.remove('colab-df-spinner');\n",
       "      quickchartButtonEl.classList.add('colab-df-quickchart-complete');\n",
       "    }\n",
       "    (() => {\n",
       "      let quickchartButtonEl =\n",
       "        document.querySelector('#df-b3fcb749-b19d-4f9d-bffd-57c280fe08a7 button');\n",
       "      quickchartButtonEl.style.display =\n",
       "        google.colab.kernel.accessAllowed ? 'block' : 'none';\n",
       "    })();\n",
       "  </script>\n",
       "</div>\n",
       "\n",
       "  <div id=\"id_0c3bc310-d752-4aef-8d95-6a887b085b0e\">\n",
       "    <style>\n",
       "      .colab-df-generate {\n",
       "        background-color: #E8F0FE;\n",
       "        border: none;\n",
       "        border-radius: 50%;\n",
       "        cursor: pointer;\n",
       "        display: none;\n",
       "        fill: #1967D2;\n",
       "        height: 32px;\n",
       "        padding: 0 0 0 0;\n",
       "        width: 32px;\n",
       "      }\n",
       "\n",
       "      .colab-df-generate:hover {\n",
       "        background-color: #E2EBFA;\n",
       "        box-shadow: 0px 1px 2px rgba(60, 64, 67, 0.3), 0px 1px 3px 1px rgba(60, 64, 67, 0.15);\n",
       "        fill: #174EA6;\n",
       "      }\n",
       "\n",
       "      [theme=dark] .colab-df-generate {\n",
       "        background-color: #3B4455;\n",
       "        fill: #D2E3FC;\n",
       "      }\n",
       "\n",
       "      [theme=dark] .colab-df-generate:hover {\n",
       "        background-color: #434B5C;\n",
       "        box-shadow: 0px 1px 3px 1px rgba(0, 0, 0, 0.15);\n",
       "        filter: drop-shadow(0px 1px 2px rgba(0, 0, 0, 0.3));\n",
       "        fill: #FFFFFF;\n",
       "      }\n",
       "    </style>\n",
       "    <button class=\"colab-df-generate\" onclick=\"generateWithVariable('df_stats')\"\n",
       "            title=\"Generate code using this dataframe.\"\n",
       "            style=\"display:none;\">\n",
       "\n",
       "  <svg xmlns=\"http://www.w3.org/2000/svg\" height=\"24px\"viewBox=\"0 0 24 24\"\n",
       "       width=\"24px\">\n",
       "    <path d=\"M7,19H8.4L18.45,9,17,7.55,7,17.6ZM5,21V16.75L18.45,3.32a2,2,0,0,1,2.83,0l1.4,1.43a1.91,1.91,0,0,1,.58,1.4,1.91,1.91,0,0,1-.58,1.4L9.25,21ZM18.45,9,17,7.55Zm-12,3A5.31,5.31,0,0,0,4.9,8.1,5.31,5.31,0,0,0,1,6.5,5.31,5.31,0,0,0,4.9,4.9,5.31,5.31,0,0,0,6.5,1,5.31,5.31,0,0,0,8.1,4.9,5.31,5.31,0,0,0,12,6.5,5.46,5.46,0,0,0,6.5,12Z\"/>\n",
       "  </svg>\n",
       "    </button>\n",
       "    <script>\n",
       "      (() => {\n",
       "      const buttonEl =\n",
       "        document.querySelector('#id_0c3bc310-d752-4aef-8d95-6a887b085b0e button.colab-df-generate');\n",
       "      buttonEl.style.display =\n",
       "        google.colab.kernel.accessAllowed ? 'block' : 'none';\n",
       "\n",
       "      buttonEl.onclick = () => {\n",
       "        google.colab.notebook.generateWithVariable('df_stats');\n",
       "      }\n",
       "      })();\n",
       "    </script>\n",
       "  </div>\n",
       "\n",
       "    </div>\n",
       "  </div>\n"
      ],
      "text/plain": [
       "                 T cells CD4+  T regulatory cells  NK cells  T cells CD8+  \\\n",
       "MLN 2238                697.0                 1.0       4.0         392.0   \n",
       "BMS-265246              895.0                54.0     430.0          77.0   \n",
       "Resminostat             933.0                12.0     320.0           0.0   \n",
       "FK 866                  532.0                46.0     260.0          62.0   \n",
       "Nilotinib               529.0                28.0     287.0          84.0   \n",
       "...                       ...                 ...       ...           ...   \n",
       "Crizotinib              506.0                37.0     305.0          87.0   \n",
       "BMS-387032              143.0                68.0     195.0          10.0   \n",
       "UNII-BXU45ZH6LI         257.0                16.0      28.0           6.0   \n",
       "Alvocidib                 8.0                33.0       6.0           0.0   \n",
       "CGP 60474                15.0                68.0       6.0           0.0   \n",
       "\n",
       "                 B cells  Myeloid cells  \n",
       "MLN 2238             2.0            5.0  \n",
       "BMS-265246           0.0            0.0  \n",
       "Resminostat          0.0            0.0  \n",
       "FK 866               0.0            0.0  \n",
       "Nilotinib            0.0            0.0  \n",
       "...                  ...            ...  \n",
       "Crizotinib         215.0          117.0  \n",
       "BMS-387032           0.0            0.0  \n",
       "UNII-BXU45ZH6LI      0.0            0.0  \n",
       "Alvocidib            3.0            1.0  \n",
       "CGP 60474            0.0            0.0  \n",
       "\n",
       "[145 rows x 6 columns]"
      ]
     },
     "execution_count": 71,
     "metadata": {},
     "output_type": "execute_result"
    }
   ],
   "source": [
    "df_stats"
   ]
  },
  {
   "cell_type": "code",
   "execution_count": null,
   "metadata": {
    "id": "vydBZHHWBbCG"
   },
   "outputs": [],
   "source": [
    "sel_cells = [\"T cells CD4+\", \"T regulatory cells\",\t\"NK cells\",\t\"T cells CD8+\"]"
   ]
  },
  {
   "cell_type": "code",
   "execution_count": null,
   "metadata": {
    "colab": {
     "base_uri": "https://localhost:8080/"
    },
    "executionInfo": {
     "elapsed": 2,
     "status": "ok",
     "timestamp": 1700453531660,
     "user": {
      "displayName": "Moi Knigi",
      "userId": "01206410294984552369"
     },
     "user_tz": 480
    },
    "id": "SDOvD-Jn6dfj",
    "outputId": "784ec1e7-6613-49ff-a227-9625253bed77"
   },
   "outputs": [
    {
     "data": {
      "text/plain": [
       "Dimethyl Sulfoxide    18668.0\n",
       "HMN-214                1514.0\n",
       "Methotrexate           1482.0\n",
       "Canertinib             1476.0\n",
       "BMS-265246             1456.0\n",
       "                       ...   \n",
       "ABT737                  655.0\n",
       "BMS-387032              416.0\n",
       "UNII-BXU45ZH6LI         307.0\n",
       "CGP 60474                89.0\n",
       "Alvocidib                47.0\n",
       "Length: 145, dtype: float64"
      ]
     },
     "execution_count": 65,
     "metadata": {},
     "output_type": "execute_result"
    }
   ],
   "source": [
    "df_stats[sel_cells].sum(axis=1).sort_values(ascending=False)"
   ]
  },
  {
   "cell_type": "code",
   "execution_count": null,
   "metadata": {
    "id": "hLmdYUTZ7iiL"
   },
   "outputs": [],
   "source": [
    "# Select perturbations with largest number of samples\n",
    "sel_perturb = df_stats[sel_cells].sum(axis=1).sort_values(ascending=False).index[:11]"
   ]
  },
  {
   "cell_type": "code",
   "execution_count": null,
   "metadata": {
    "colab": {
     "base_uri": "https://localhost:8080/",
     "height": 394
    },
    "executionInfo": {
     "elapsed": 144,
     "status": "ok",
     "timestamp": 1700453660315,
     "user": {
      "displayName": "Moi Knigi",
      "userId": "01206410294984552369"
     },
     "user_tz": 480
    },
    "id": "OObKCwNe7igV",
    "outputId": "6388369e-0bc6-42dc-8d66-e0f042c068c6"
   },
   "outputs": [
    {
     "data": {
      "text/html": [
       "\n",
       "  <div id=\"df-31bb44b3-517c-4d98-ba22-086b9d4be8e2\" class=\"colab-df-container\">\n",
       "    <div>\n",
       "<style scoped>\n",
       "    .dataframe tbody tr th:only-of-type {\n",
       "        vertical-align: middle;\n",
       "    }\n",
       "\n",
       "    .dataframe tbody tr th {\n",
       "        vertical-align: top;\n",
       "    }\n",
       "\n",
       "    .dataframe thead th {\n",
       "        text-align: right;\n",
       "    }\n",
       "</style>\n",
       "<table border=\"1\" class=\"dataframe\">\n",
       "  <thead>\n",
       "    <tr style=\"text-align: right;\">\n",
       "      <th></th>\n",
       "      <th>T cells CD4+</th>\n",
       "      <th>T regulatory cells</th>\n",
       "      <th>NK cells</th>\n",
       "      <th>T cells CD8+</th>\n",
       "    </tr>\n",
       "  </thead>\n",
       "  <tbody>\n",
       "    <tr>\n",
       "      <th>Dimethyl Sulfoxide</th>\n",
       "      <td>10778.0</td>\n",
       "      <td>812.0</td>\n",
       "      <td>5782.0</td>\n",
       "      <td>1296.0</td>\n",
       "    </tr>\n",
       "    <tr>\n",
       "      <th>HMN-214</th>\n",
       "      <td>920.0</td>\n",
       "      <td>61.0</td>\n",
       "      <td>457.0</td>\n",
       "      <td>76.0</td>\n",
       "    </tr>\n",
       "    <tr>\n",
       "      <th>Methotrexate</th>\n",
       "      <td>863.0</td>\n",
       "      <td>73.0</td>\n",
       "      <td>471.0</td>\n",
       "      <td>75.0</td>\n",
       "    </tr>\n",
       "    <tr>\n",
       "      <th>Canertinib</th>\n",
       "      <td>918.0</td>\n",
       "      <td>69.0</td>\n",
       "      <td>413.0</td>\n",
       "      <td>76.0</td>\n",
       "    </tr>\n",
       "    <tr>\n",
       "      <th>BMS-265246</th>\n",
       "      <td>895.0</td>\n",
       "      <td>54.0</td>\n",
       "      <td>430.0</td>\n",
       "      <td>77.0</td>\n",
       "    </tr>\n",
       "    <tr>\n",
       "      <th>Lapatinib</th>\n",
       "      <td>806.0</td>\n",
       "      <td>71.0</td>\n",
       "      <td>422.0</td>\n",
       "      <td>93.0</td>\n",
       "    </tr>\n",
       "    <tr>\n",
       "      <th>Ganetespib (STA-9090)</th>\n",
       "      <td>544.0</td>\n",
       "      <td>4.0</td>\n",
       "      <td>779.0</td>\n",
       "      <td>12.0</td>\n",
       "    </tr>\n",
       "    <tr>\n",
       "      <th>Topotecan</th>\n",
       "      <td>765.0</td>\n",
       "      <td>74.0</td>\n",
       "      <td>414.0</td>\n",
       "      <td>79.0</td>\n",
       "    </tr>\n",
       "    <tr>\n",
       "      <th>Phenylbutazone</th>\n",
       "      <td>779.0</td>\n",
       "      <td>68.0</td>\n",
       "      <td>402.0</td>\n",
       "      <td>78.0</td>\n",
       "    </tr>\n",
       "    <tr>\n",
       "      <th>LDN 193189</th>\n",
       "      <td>813.0</td>\n",
       "      <td>55.0</td>\n",
       "      <td>385.0</td>\n",
       "      <td>74.0</td>\n",
       "    </tr>\n",
       "    <tr>\n",
       "      <th>Riociguat</th>\n",
       "      <td>785.0</td>\n",
       "      <td>55.0</td>\n",
       "      <td>375.0</td>\n",
       "      <td>102.0</td>\n",
       "    </tr>\n",
       "  </tbody>\n",
       "</table>\n",
       "</div>\n",
       "    <div class=\"colab-df-buttons\">\n",
       "\n",
       "  <div class=\"colab-df-container\">\n",
       "    <button class=\"colab-df-convert\" onclick=\"convertToInteractive('df-31bb44b3-517c-4d98-ba22-086b9d4be8e2')\"\n",
       "            title=\"Convert this dataframe to an interactive table.\"\n",
       "            style=\"display:none;\">\n",
       "\n",
       "  <svg xmlns=\"http://www.w3.org/2000/svg\" height=\"24px\" viewBox=\"0 -960 960 960\">\n",
       "    <path d=\"M120-120v-720h720v720H120Zm60-500h600v-160H180v160Zm220 220h160v-160H400v160Zm0 220h160v-160H400v160ZM180-400h160v-160H180v160Zm440 0h160v-160H620v160ZM180-180h160v-160H180v160Zm440 0h160v-160H620v160Z\"/>\n",
       "  </svg>\n",
       "    </button>\n",
       "\n",
       "  <style>\n",
       "    .colab-df-container {\n",
       "      display:flex;\n",
       "      gap: 12px;\n",
       "    }\n",
       "\n",
       "    .colab-df-convert {\n",
       "      background-color: #E8F0FE;\n",
       "      border: none;\n",
       "      border-radius: 50%;\n",
       "      cursor: pointer;\n",
       "      display: none;\n",
       "      fill: #1967D2;\n",
       "      height: 32px;\n",
       "      padding: 0 0 0 0;\n",
       "      width: 32px;\n",
       "    }\n",
       "\n",
       "    .colab-df-convert:hover {\n",
       "      background-color: #E2EBFA;\n",
       "      box-shadow: 0px 1px 2px rgba(60, 64, 67, 0.3), 0px 1px 3px 1px rgba(60, 64, 67, 0.15);\n",
       "      fill: #174EA6;\n",
       "    }\n",
       "\n",
       "    .colab-df-buttons div {\n",
       "      margin-bottom: 4px;\n",
       "    }\n",
       "\n",
       "    [theme=dark] .colab-df-convert {\n",
       "      background-color: #3B4455;\n",
       "      fill: #D2E3FC;\n",
       "    }\n",
       "\n",
       "    [theme=dark] .colab-df-convert:hover {\n",
       "      background-color: #434B5C;\n",
       "      box-shadow: 0px 1px 3px 1px rgba(0, 0, 0, 0.15);\n",
       "      filter: drop-shadow(0px 1px 2px rgba(0, 0, 0, 0.3));\n",
       "      fill: #FFFFFF;\n",
       "    }\n",
       "  </style>\n",
       "\n",
       "    <script>\n",
       "      const buttonEl =\n",
       "        document.querySelector('#df-31bb44b3-517c-4d98-ba22-086b9d4be8e2 button.colab-df-convert');\n",
       "      buttonEl.style.display =\n",
       "        google.colab.kernel.accessAllowed ? 'block' : 'none';\n",
       "\n",
       "      async function convertToInteractive(key) {\n",
       "        const element = document.querySelector('#df-31bb44b3-517c-4d98-ba22-086b9d4be8e2');\n",
       "        const dataTable =\n",
       "          await google.colab.kernel.invokeFunction('convertToInteractive',\n",
       "                                                    [key], {});\n",
       "        if (!dataTable) return;\n",
       "\n",
       "        const docLinkHtml = 'Like what you see? Visit the ' +\n",
       "          '<a target=\"_blank\" href=https://colab.research.google.com/notebooks/data_table.ipynb>data table notebook</a>'\n",
       "          + ' to learn more about interactive tables.';\n",
       "        element.innerHTML = '';\n",
       "        dataTable['output_type'] = 'display_data';\n",
       "        await google.colab.output.renderOutput(dataTable, element);\n",
       "        const docLink = document.createElement('div');\n",
       "        docLink.innerHTML = docLinkHtml;\n",
       "        element.appendChild(docLink);\n",
       "      }\n",
       "    </script>\n",
       "  </div>\n",
       "\n",
       "\n",
       "<div id=\"df-0af581dd-d109-43a7-9653-02c6bb5cb4b5\">\n",
       "  <button class=\"colab-df-quickchart\" onclick=\"quickchart('df-0af581dd-d109-43a7-9653-02c6bb5cb4b5')\"\n",
       "            title=\"Suggest charts\"\n",
       "            style=\"display:none;\">\n",
       "\n",
       "<svg xmlns=\"http://www.w3.org/2000/svg\" height=\"24px\"viewBox=\"0 0 24 24\"\n",
       "     width=\"24px\">\n",
       "    <g>\n",
       "        <path d=\"M19 3H5c-1.1 0-2 .9-2 2v14c0 1.1.9 2 2 2h14c1.1 0 2-.9 2-2V5c0-1.1-.9-2-2-2zM9 17H7v-7h2v7zm4 0h-2V7h2v10zm4 0h-2v-4h2v4z\"/>\n",
       "    </g>\n",
       "</svg>\n",
       "  </button>\n",
       "\n",
       "<style>\n",
       "  .colab-df-quickchart {\n",
       "      --bg-color: #E8F0FE;\n",
       "      --fill-color: #1967D2;\n",
       "      --hover-bg-color: #E2EBFA;\n",
       "      --hover-fill-color: #174EA6;\n",
       "      --disabled-fill-color: #AAA;\n",
       "      --disabled-bg-color: #DDD;\n",
       "  }\n",
       "\n",
       "  [theme=dark] .colab-df-quickchart {\n",
       "      --bg-color: #3B4455;\n",
       "      --fill-color: #D2E3FC;\n",
       "      --hover-bg-color: #434B5C;\n",
       "      --hover-fill-color: #FFFFFF;\n",
       "      --disabled-bg-color: #3B4455;\n",
       "      --disabled-fill-color: #666;\n",
       "  }\n",
       "\n",
       "  .colab-df-quickchart {\n",
       "    background-color: var(--bg-color);\n",
       "    border: none;\n",
       "    border-radius: 50%;\n",
       "    cursor: pointer;\n",
       "    display: none;\n",
       "    fill: var(--fill-color);\n",
       "    height: 32px;\n",
       "    padding: 0;\n",
       "    width: 32px;\n",
       "  }\n",
       "\n",
       "  .colab-df-quickchart:hover {\n",
       "    background-color: var(--hover-bg-color);\n",
       "    box-shadow: 0 1px 2px rgba(60, 64, 67, 0.3), 0 1px 3px 1px rgba(60, 64, 67, 0.15);\n",
       "    fill: var(--button-hover-fill-color);\n",
       "  }\n",
       "\n",
       "  .colab-df-quickchart-complete:disabled,\n",
       "  .colab-df-quickchart-complete:disabled:hover {\n",
       "    background-color: var(--disabled-bg-color);\n",
       "    fill: var(--disabled-fill-color);\n",
       "    box-shadow: none;\n",
       "  }\n",
       "\n",
       "  .colab-df-spinner {\n",
       "    border: 2px solid var(--fill-color);\n",
       "    border-color: transparent;\n",
       "    border-bottom-color: var(--fill-color);\n",
       "    animation:\n",
       "      spin 1s steps(1) infinite;\n",
       "  }\n",
       "\n",
       "  @keyframes spin {\n",
       "    0% {\n",
       "      border-color: transparent;\n",
       "      border-bottom-color: var(--fill-color);\n",
       "      border-left-color: var(--fill-color);\n",
       "    }\n",
       "    20% {\n",
       "      border-color: transparent;\n",
       "      border-left-color: var(--fill-color);\n",
       "      border-top-color: var(--fill-color);\n",
       "    }\n",
       "    30% {\n",
       "      border-color: transparent;\n",
       "      border-left-color: var(--fill-color);\n",
       "      border-top-color: var(--fill-color);\n",
       "      border-right-color: var(--fill-color);\n",
       "    }\n",
       "    40% {\n",
       "      border-color: transparent;\n",
       "      border-right-color: var(--fill-color);\n",
       "      border-top-color: var(--fill-color);\n",
       "    }\n",
       "    60% {\n",
       "      border-color: transparent;\n",
       "      border-right-color: var(--fill-color);\n",
       "    }\n",
       "    80% {\n",
       "      border-color: transparent;\n",
       "      border-right-color: var(--fill-color);\n",
       "      border-bottom-color: var(--fill-color);\n",
       "    }\n",
       "    90% {\n",
       "      border-color: transparent;\n",
       "      border-bottom-color: var(--fill-color);\n",
       "    }\n",
       "  }\n",
       "</style>\n",
       "\n",
       "  <script>\n",
       "    async function quickchart(key) {\n",
       "      const quickchartButtonEl =\n",
       "        document.querySelector('#' + key + ' button');\n",
       "      quickchartButtonEl.disabled = true;  // To prevent multiple clicks.\n",
       "      quickchartButtonEl.classList.add('colab-df-spinner');\n",
       "      try {\n",
       "        const charts = await google.colab.kernel.invokeFunction(\n",
       "            'suggestCharts', [key], {});\n",
       "      } catch (error) {\n",
       "        console.error('Error during call to suggestCharts:', error);\n",
       "      }\n",
       "      quickchartButtonEl.classList.remove('colab-df-spinner');\n",
       "      quickchartButtonEl.classList.add('colab-df-quickchart-complete');\n",
       "    }\n",
       "    (() => {\n",
       "      let quickchartButtonEl =\n",
       "        document.querySelector('#df-0af581dd-d109-43a7-9653-02c6bb5cb4b5 button');\n",
       "      quickchartButtonEl.style.display =\n",
       "        google.colab.kernel.accessAllowed ? 'block' : 'none';\n",
       "    })();\n",
       "  </script>\n",
       "</div>\n",
       "\n",
       "    </div>\n",
       "  </div>\n"
      ],
      "text/plain": [
       "                       T cells CD4+  T regulatory cells  NK cells  \\\n",
       "Dimethyl Sulfoxide          10778.0               812.0    5782.0   \n",
       "HMN-214                       920.0                61.0     457.0   \n",
       "Methotrexate                  863.0                73.0     471.0   \n",
       "Canertinib                    918.0                69.0     413.0   \n",
       "BMS-265246                    895.0                54.0     430.0   \n",
       "Lapatinib                     806.0                71.0     422.0   \n",
       "Ganetespib (STA-9090)         544.0                 4.0     779.0   \n",
       "Topotecan                     765.0                74.0     414.0   \n",
       "Phenylbutazone                779.0                68.0     402.0   \n",
       "LDN 193189                    813.0                55.0     385.0   \n",
       "Riociguat                     785.0                55.0     375.0   \n",
       "\n",
       "                       T cells CD8+  \n",
       "Dimethyl Sulfoxide           1296.0  \n",
       "HMN-214                        76.0  \n",
       "Methotrexate                   75.0  \n",
       "Canertinib                     76.0  \n",
       "BMS-265246                     77.0  \n",
       "Lapatinib                      93.0  \n",
       "Ganetespib (STA-9090)          12.0  \n",
       "Topotecan                      79.0  \n",
       "Phenylbutazone                 78.0  \n",
       "LDN 193189                     74.0  \n",
       "Riociguat                     102.0  "
      ]
     },
     "execution_count": 70,
     "metadata": {},
     "output_type": "execute_result"
    }
   ],
   "source": [
    "# Number of samples per drug/cell_type\n",
    "df_stats.loc[sel_perturb, sel_cells]"
   ]
  },
  {
   "cell_type": "code",
   "execution_count": null,
   "metadata": {
    "id": "HDCn6pI_7id_"
   },
   "outputs": [],
   "source": [
    "ad_train_sel = ad_train[ad_train.obs.sm_name.isin(sel_perturb) & ad_train.obs.cell_type.isin(sel_cells)]"
   ]
  },
  {
   "cell_type": "code",
   "execution_count": null,
   "metadata": {
    "id": "jOiGSGCC7ibt"
   },
   "outputs": [],
   "source": [
    "ad_train_sel.write(f\"{DATA}/ad_train.top_drugs.h5ad\", compression=\"gzip\")"
   ]
  },
  {
   "cell_type": "code",
   "execution_count": null,
   "metadata": {
    "id": "ihHka5WS6dcY"
   },
   "outputs": [],
   "source": []
  },
  {
   "cell_type": "markdown",
   "metadata": {
    "id": "r4GtI1d-1oVi"
   },
   "source": [
    "# Test (TMP)"
   ]
  },
  {
   "cell_type": "code",
   "execution_count": null,
   "metadata": {
    "id": "m016jnob21f2"
   },
   "outputs": [],
   "source": [
    "from anndata.experimental.pytorch import AnnLoader"
   ]
  },
  {
   "cell_type": "code",
   "execution_count": null,
   "metadata": {
    "id": "PGmJwijBvq9X"
   },
   "outputs": [],
   "source": [
    "# Load the Anndata object\n",
    "# adata = sc.read('data.h5ad')\n",
    "# adata = ad.read('ad_train.sel.h5ad', backed='r')\n",
    "# adata.file.close()\n",
    "\n",
    "\n",
    "ad_train1 = ad.read_h5ad('ad_train.sel.h5ad')"
   ]
  },
  {
   "cell_type": "code",
   "execution_count": null,
   "metadata": {
    "id": "MuK5s6bYvq6y"
   },
   "outputs": [],
   "source": [
    "# Create a dataloader with a batch size of 128 and shuffle the data\n",
    "dataloader = AnnLoader(ad_train1, batch_size=32, shuffle=True)"
   ]
  },
  {
   "cell_type": "code",
   "execution_count": null,
   "metadata": {
    "colab": {
     "base_uri": "https://localhost:8080/"
    },
    "executionInfo": {
     "elapsed": 1261,
     "status": "ok",
     "timestamp": 1700367821959,
     "user": {
      "displayName": "Moi Knigi",
      "userId": "01206410294984552369"
     },
     "user_tz": 480
    },
    "id": "FLUyIzgivq4S",
    "outputId": "54862649-1b89-40fa-e7de-722dc9b79863"
   },
   "outputs": [
    {
     "name": "stderr",
     "output_type": "stream",
     "text": [
      "100%|██████████| 393/393 [00:00<00:00, 523.35it/s]\n"
     ]
    }
   ],
   "source": [
    "for batch in tq.tqdm(dataloader):\n",
    "    # Get the input data and labels\n",
    "    batch = batch.X\n"
   ]
  },
  {
   "cell_type": "code",
   "execution_count": null,
   "metadata": {
    "colab": {
     "base_uri": "https://localhost:8080/"
    },
    "executionInfo": {
     "elapsed": 4,
     "status": "ok",
     "timestamp": 1700367823410,
     "user": {
      "displayName": "Moi Knigi",
      "userId": "01206410294984552369"
     },
     "user_tz": 480
    },
    "id": "SgCHeBzuvq1r",
    "outputId": "e80e9443-2a28-4e77-ea55-c69718826b48"
   },
   "outputs": [
    {
     "data": {
      "text/plain": [
       "torch.Size([27, 18211])"
      ]
     },
     "execution_count": 30,
     "metadata": {},
     "output_type": "execute_result"
    }
   ],
   "source": [
    "batch.shape"
   ]
  },
  {
   "cell_type": "code",
   "execution_count": null,
   "metadata": {
    "id": "jYtXfhgr0hk2"
   },
   "outputs": [],
   "source": []
  }
 ],
 "metadata": {
  "colab": {
   "authorship_tag": "ABX9TyMy4Qii+RKdJH29v/3vRp3r",
   "machine_shape": "hm",
   "mount_file_id": "1lxXFqxSGao4Zq4CZsQunO_WUFgQNHYuc",
   "provenance": []
  },
  "kernelspec": {
   "display_name": "Python 3 (ipykernel)",
   "language": "python",
   "name": "python3"
  },
  "language_info": {
   "codemirror_mode": {
    "name": "ipython",
    "version": 3
   },
   "file_extension": ".py",
   "mimetype": "text/x-python",
   "name": "python",
   "nbconvert_exporter": "python",
   "pygments_lexer": "ipython3",
   "version": "3.8.17"
  }
 },
 "nbformat": 4,
 "nbformat_minor": 4
}
